{
  "cells": [
    {
      "cell_type": "markdown",
      "metadata": {
        "id": "F5woz3rp63xE"
      },
      "source": [
        "**CMPE255-Project** <br>\n",
        "**Text Classification using different ML and DL algorithms** <br>\n",
        "Algorithm Track - Text Data Mining <br>"
      ]
    },
    {
      "cell_type": "markdown",
      "source": [
        "# **Dataset** <br>\n",
        "Dataset Name: Large Movie Review Dataset <br>\n",
        "Source: https://ai.stanford.edu/~amaas/data/sentiment/  <br>\n",
        "Dataset uploaded on google shared drive: https://drive.google.com/drive/folders/1BVgS-sgaNhfWIzqUT-UOKSYe13SjHfNf?usp=share_link\n",
        "(Access: Anyone from SJSU can view)"
      ],
      "metadata": {
        "id": "rBzuI4IvjhXG"
      }
    },
    {
      "cell_type": "code",
      "execution_count": 1,
      "metadata": {
        "id": "bdaDFALnAEgr"
      },
      "outputs": [],
      "source": [
        "# To enable code to display multiple output from single cell\n",
        "from IPython.core.interactiveshell import InteractiveShell\n",
        "InteractiveShell.ast_node_interactivity = 'all'"
      ]
    },
    {
      "cell_type": "code",
      "source": [
        "from google.colab import drive\n",
        "drive.mount('/content/drive')"
      ],
      "metadata": {
        "colab": {
          "base_uri": "https://localhost:8080/"
        },
        "id": "0POHrNep0hkH",
        "outputId": "55740ac6-79df-42c4-ce78-9346fc019a15"
      },
      "execution_count": 2,
      "outputs": [
        {
          "output_type": "stream",
          "name": "stdout",
          "text": [
            "Mounted at /content/drive\n"
          ]
        }
      ]
    },
    {
      "cell_type": "code",
      "execution_count": 3,
      "metadata": {
        "id": "i-p9GWTRJpxT",
        "colab": {
          "base_uri": "https://localhost:8080/"
        },
        "outputId": "d91b83a1-8a62-4eea-8fd8-7876818a4206"
      },
      "outputs": [
        {
          "output_type": "stream",
          "name": "stderr",
          "text": [
            "[nltk_data] Downloading package stopwords to /root/nltk_data...\n",
            "[nltk_data]   Unzipping corpora/stopwords.zip.\n"
          ]
        },
        {
          "output_type": "execute_result",
          "data": {
            "text/plain": [
              "True"
            ]
          },
          "metadata": {},
          "execution_count": 3
        }
      ],
      "source": [
        "# import necessary libraries\n",
        "import pandas as pd\n",
        "import numpy as np\n",
        "import os\n",
        "import string\n",
        "from string import punctuation\n",
        "from os import listdir\n",
        "from os import chdir as cd\n",
        "from collections import Counter\n",
        "import nltk\n",
        "from nltk import PorterStemmer \n",
        "nltk.download('stopwords')\n",
        "from nltk.corpus import stopwords\n",
        "import matplotlib.pyplot as plt\n",
        "import seaborn as sns\n",
        "# use seaborn plotting style\n",
        "sns.set() "
      ]
    },
    {
      "cell_type": "markdown",
      "source": [
        "# **Pre-Processing**"
      ],
      "metadata": {
        "id": "JnJtwY6877Pr"
      }
    },
    {
      "cell_type": "code",
      "execution_count": 4,
      "metadata": {
        "id": "xo42YfbzyzA5",
        "colab": {
          "base_uri": "https://localhost:8080/"
        },
        "outputId": "6caeaccf-6f57-402d-db66-1469a8fe86dd"
      },
      "outputs": [
        {
          "output_type": "stream",
          "name": "stdout",
          "text": [
            "/content/drive/Shareddrives/CMPE_255_Project/Dataset-Final/train/pos\n"
          ]
        }
      ],
      "source": [
        "%cd /content/drive/Shareddrives/CMPE_255_Project/Dataset-Final/train/pos"
      ]
    },
    {
      "cell_type": "code",
      "execution_count": null,
      "metadata": {
        "id": "kZyyWvdkgCGH"
      },
      "outputs": [],
      "source": [
        "# Read all the files from train/pos folder\n",
        "# Create lists for unique ID and rating which can obtained from the file name - train_pos_id and train_pos_rating\n",
        "# Append the content (review) of each text file into a list - train_pos_review\n",
        "\n",
        "train_pos_path = '/content/drive/Shareddrives/CMPE_255_Project/Dataset-Final/train/pos'\n",
        "train_pos_files = os.listdir(train_pos_path)\n",
        "\n",
        "train_pos_files\n",
        "train_pos_id = []\n",
        "train_pos_rating = []\n",
        "train_pos_review = []\n",
        "\n",
        "for filename in train_pos_files:\n",
        "  with open(filename, \"r\") as file:\n",
        "    content = file.read()\n",
        "    train_pos_review.append(content)\n",
        "\n",
        "  filename, extension = os.path.splitext(filename)\n",
        "  id, rating = filename.split('_', 1)\n",
        "  train_pos_id.append(id)\n",
        "  train_pos_rating.append(int(rating))"
      ]
    },
    {
      "cell_type": "code",
      "execution_count": 6,
      "metadata": {
        "colab": {
          "base_uri": "https://localhost:8080/",
          "height": 224
        },
        "id": "-FXPuy1FHicL",
        "outputId": "1b3293d9-ea6c-4241-9145-0dee32030ee3"
      },
      "outputs": [
        {
          "output_type": "stream",
          "name": "stdout",
          "text": [
            "12500\n"
          ]
        },
        {
          "output_type": "execute_result",
          "data": {
            "text/plain": [
              "      id  rating                                             review\n",
              "0  11393       7  Uggh! I really wasn't that impressed by this f...\n",
              "1  11471       7  I am a big fan of cinema verite and saw this m...\n",
              "2  11485      10  Zero Day leads you to think, even re-think why...\n",
              "3  11508       8  I'd love to give Kolchak a higher rating but t...\n",
              "4  11749      10  Finally we get a TV series where we get to see..."
            ],
            "text/html": [
              "\n",
              "  <div id=\"df-00fa3acc-1f34-4d74-baf4-3ac4e838dd2f\">\n",
              "    <div class=\"colab-df-container\">\n",
              "      <div>\n",
              "<style scoped>\n",
              "    .dataframe tbody tr th:only-of-type {\n",
              "        vertical-align: middle;\n",
              "    }\n",
              "\n",
              "    .dataframe tbody tr th {\n",
              "        vertical-align: top;\n",
              "    }\n",
              "\n",
              "    .dataframe thead th {\n",
              "        text-align: right;\n",
              "    }\n",
              "</style>\n",
              "<table border=\"1\" class=\"dataframe\">\n",
              "  <thead>\n",
              "    <tr style=\"text-align: right;\">\n",
              "      <th></th>\n",
              "      <th>id</th>\n",
              "      <th>rating</th>\n",
              "      <th>review</th>\n",
              "    </tr>\n",
              "  </thead>\n",
              "  <tbody>\n",
              "    <tr>\n",
              "      <th>0</th>\n",
              "      <td>11393</td>\n",
              "      <td>7</td>\n",
              "      <td>Uggh! I really wasn't that impressed by this f...</td>\n",
              "    </tr>\n",
              "    <tr>\n",
              "      <th>1</th>\n",
              "      <td>11471</td>\n",
              "      <td>7</td>\n",
              "      <td>I am a big fan of cinema verite and saw this m...</td>\n",
              "    </tr>\n",
              "    <tr>\n",
              "      <th>2</th>\n",
              "      <td>11485</td>\n",
              "      <td>10</td>\n",
              "      <td>Zero Day leads you to think, even re-think why...</td>\n",
              "    </tr>\n",
              "    <tr>\n",
              "      <th>3</th>\n",
              "      <td>11508</td>\n",
              "      <td>8</td>\n",
              "      <td>I'd love to give Kolchak a higher rating but t...</td>\n",
              "    </tr>\n",
              "    <tr>\n",
              "      <th>4</th>\n",
              "      <td>11749</td>\n",
              "      <td>10</td>\n",
              "      <td>Finally we get a TV series where we get to see...</td>\n",
              "    </tr>\n",
              "  </tbody>\n",
              "</table>\n",
              "</div>\n",
              "      <button class=\"colab-df-convert\" onclick=\"convertToInteractive('df-00fa3acc-1f34-4d74-baf4-3ac4e838dd2f')\"\n",
              "              title=\"Convert this dataframe to an interactive table.\"\n",
              "              style=\"display:none;\">\n",
              "        \n",
              "  <svg xmlns=\"http://www.w3.org/2000/svg\" height=\"24px\"viewBox=\"0 0 24 24\"\n",
              "       width=\"24px\">\n",
              "    <path d=\"M0 0h24v24H0V0z\" fill=\"none\"/>\n",
              "    <path d=\"M18.56 5.44l.94 2.06.94-2.06 2.06-.94-2.06-.94-.94-2.06-.94 2.06-2.06.94zm-11 1L8.5 8.5l.94-2.06 2.06-.94-2.06-.94L8.5 2.5l-.94 2.06-2.06.94zm10 10l.94 2.06.94-2.06 2.06-.94-2.06-.94-.94-2.06-.94 2.06-2.06.94z\"/><path d=\"M17.41 7.96l-1.37-1.37c-.4-.4-.92-.59-1.43-.59-.52 0-1.04.2-1.43.59L10.3 9.45l-7.72 7.72c-.78.78-.78 2.05 0 2.83L4 21.41c.39.39.9.59 1.41.59.51 0 1.02-.2 1.41-.59l7.78-7.78 2.81-2.81c.8-.78.8-2.07 0-2.86zM5.41 20L4 18.59l7.72-7.72 1.47 1.35L5.41 20z\"/>\n",
              "  </svg>\n",
              "      </button>\n",
              "      \n",
              "  <style>\n",
              "    .colab-df-container {\n",
              "      display:flex;\n",
              "      flex-wrap:wrap;\n",
              "      gap: 12px;\n",
              "    }\n",
              "\n",
              "    .colab-df-convert {\n",
              "      background-color: #E8F0FE;\n",
              "      border: none;\n",
              "      border-radius: 50%;\n",
              "      cursor: pointer;\n",
              "      display: none;\n",
              "      fill: #1967D2;\n",
              "      height: 32px;\n",
              "      padding: 0 0 0 0;\n",
              "      width: 32px;\n",
              "    }\n",
              "\n",
              "    .colab-df-convert:hover {\n",
              "      background-color: #E2EBFA;\n",
              "      box-shadow: 0px 1px 2px rgba(60, 64, 67, 0.3), 0px 1px 3px 1px rgba(60, 64, 67, 0.15);\n",
              "      fill: #174EA6;\n",
              "    }\n",
              "\n",
              "    [theme=dark] .colab-df-convert {\n",
              "      background-color: #3B4455;\n",
              "      fill: #D2E3FC;\n",
              "    }\n",
              "\n",
              "    [theme=dark] .colab-df-convert:hover {\n",
              "      background-color: #434B5C;\n",
              "      box-shadow: 0px 1px 3px 1px rgba(0, 0, 0, 0.15);\n",
              "      filter: drop-shadow(0px 1px 2px rgba(0, 0, 0, 0.3));\n",
              "      fill: #FFFFFF;\n",
              "    }\n",
              "  </style>\n",
              "\n",
              "      <script>\n",
              "        const buttonEl =\n",
              "          document.querySelector('#df-00fa3acc-1f34-4d74-baf4-3ac4e838dd2f button.colab-df-convert');\n",
              "        buttonEl.style.display =\n",
              "          google.colab.kernel.accessAllowed ? 'block' : 'none';\n",
              "\n",
              "        async function convertToInteractive(key) {\n",
              "          const element = document.querySelector('#df-00fa3acc-1f34-4d74-baf4-3ac4e838dd2f');\n",
              "          const dataTable =\n",
              "            await google.colab.kernel.invokeFunction('convertToInteractive',\n",
              "                                                     [key], {});\n",
              "          if (!dataTable) return;\n",
              "\n",
              "          const docLinkHtml = 'Like what you see? Visit the ' +\n",
              "            '<a target=\"_blank\" href=https://colab.research.google.com/notebooks/data_table.ipynb>data table notebook</a>'\n",
              "            + ' to learn more about interactive tables.';\n",
              "          element.innerHTML = '';\n",
              "          dataTable['output_type'] = 'display_data';\n",
              "          await google.colab.output.renderOutput(dataTable, element);\n",
              "          const docLink = document.createElement('div');\n",
              "          docLink.innerHTML = docLinkHtml;\n",
              "          element.appendChild(docLink);\n",
              "        }\n",
              "      </script>\n",
              "    </div>\n",
              "  </div>\n",
              "  "
            ]
          },
          "metadata": {},
          "execution_count": 6
        }
      ],
      "source": [
        "# Create a dataframe by combining all the lists created above\n",
        "df_train_pos = pd.DataFrame()\n",
        "df_train_pos['id'] = train_pos_id\n",
        "df_train_pos['rating'] = train_pos_rating\n",
        "df_train_pos['review'] = train_pos_review\n",
        "print(len(df_train_pos))\n",
        "df_train_pos.head()"
      ]
    },
    {
      "cell_type": "code",
      "execution_count": 8,
      "metadata": {
        "colab": {
          "base_uri": "https://localhost:8080/"
        },
        "id": "Pz2DEhkQxuQX",
        "outputId": "f3febd69-a895-42e3-d270-09f9c077a98c"
      },
      "outputs": [
        {
          "output_type": "stream",
          "name": "stdout",
          "text": [
            "/content/drive/Shareddrives/CMPE_255_Project/Dataset-Final/train/neg\n"
          ]
        }
      ],
      "source": [
        "# change directory before performing file open operations \n",
        "%cd /content/drive/Shareddrives/CMPE_255_Project/Dataset-Final/train/neg"
      ]
    },
    {
      "cell_type": "code",
      "execution_count": null,
      "metadata": {
        "id": "_LX-OAwGkHco"
      },
      "outputs": [],
      "source": [
        "# Read all the files from train/neg folder\n",
        "# Create lists for unique ID and rating which can obtained from the file name - train_neg_id and train_neg_rating\n",
        "# Append the content (review) of each text file into a list - train_neg_review\n",
        "\n",
        "train_neg_path = '/content/drive/Shareddrives/CMPE_255_Project/Dataset-Final/train/neg'\n",
        "train_neg_files = os.listdir(train_neg_path)\n",
        "\n",
        "train_neg_files\n",
        "train_neg_id = []\n",
        "train_neg_rating = []\n",
        "train_neg_review = []\n",
        "\n",
        "for filename in train_neg_files:\n",
        "  with open(filename, \"r\") as file:\n",
        "    content = file.read()\n",
        "    train_neg_review.append(content)\n",
        "\n",
        "  filename, extension = os.path.splitext(filename)\n",
        "  id, rating = filename.split('_', 1)\n",
        "  train_neg_id.append(id)\n",
        "  train_neg_rating.append(int(rating))"
      ]
    },
    {
      "cell_type": "code",
      "execution_count": 10,
      "metadata": {
        "colab": {
          "base_uri": "https://localhost:8080/",
          "height": 224
        },
        "id": "nmv2qFGWkXaL",
        "outputId": "df6b8759-0126-44e2-fc76-34e1c4ac9df1"
      },
      "outputs": [
        {
          "output_type": "stream",
          "name": "stdout",
          "text": [
            "12500\n"
          ]
        },
        {
          "output_type": "execute_result",
          "data": {
            "text/plain": [
              "      id  rating                                             review\n",
              "0  11182       3  Very silly movie, filled with stupid one liner...\n",
              "1  11485       2  Forbidden Siren is based upon the Siren 2 Play...\n",
              "2  11502       1  This movie is painfully slow and has no plot. ...\n",
              "3  11308       3  <br /><br />Get your brewskies out and enjoy t...\n",
              "4  11567       2  I decided to watch this serial after seeing th..."
            ],
            "text/html": [
              "\n",
              "  <div id=\"df-97e14992-0ccf-4c3f-a972-43b5e368817d\">\n",
              "    <div class=\"colab-df-container\">\n",
              "      <div>\n",
              "<style scoped>\n",
              "    .dataframe tbody tr th:only-of-type {\n",
              "        vertical-align: middle;\n",
              "    }\n",
              "\n",
              "    .dataframe tbody tr th {\n",
              "        vertical-align: top;\n",
              "    }\n",
              "\n",
              "    .dataframe thead th {\n",
              "        text-align: right;\n",
              "    }\n",
              "</style>\n",
              "<table border=\"1\" class=\"dataframe\">\n",
              "  <thead>\n",
              "    <tr style=\"text-align: right;\">\n",
              "      <th></th>\n",
              "      <th>id</th>\n",
              "      <th>rating</th>\n",
              "      <th>review</th>\n",
              "    </tr>\n",
              "  </thead>\n",
              "  <tbody>\n",
              "    <tr>\n",
              "      <th>0</th>\n",
              "      <td>11182</td>\n",
              "      <td>3</td>\n",
              "      <td>Very silly movie, filled with stupid one liner...</td>\n",
              "    </tr>\n",
              "    <tr>\n",
              "      <th>1</th>\n",
              "      <td>11485</td>\n",
              "      <td>2</td>\n",
              "      <td>Forbidden Siren is based upon the Siren 2 Play...</td>\n",
              "    </tr>\n",
              "    <tr>\n",
              "      <th>2</th>\n",
              "      <td>11502</td>\n",
              "      <td>1</td>\n",
              "      <td>This movie is painfully slow and has no plot. ...</td>\n",
              "    </tr>\n",
              "    <tr>\n",
              "      <th>3</th>\n",
              "      <td>11308</td>\n",
              "      <td>3</td>\n",
              "      <td>&lt;br /&gt;&lt;br /&gt;Get your brewskies out and enjoy t...</td>\n",
              "    </tr>\n",
              "    <tr>\n",
              "      <th>4</th>\n",
              "      <td>11567</td>\n",
              "      <td>2</td>\n",
              "      <td>I decided to watch this serial after seeing th...</td>\n",
              "    </tr>\n",
              "  </tbody>\n",
              "</table>\n",
              "</div>\n",
              "      <button class=\"colab-df-convert\" onclick=\"convertToInteractive('df-97e14992-0ccf-4c3f-a972-43b5e368817d')\"\n",
              "              title=\"Convert this dataframe to an interactive table.\"\n",
              "              style=\"display:none;\">\n",
              "        \n",
              "  <svg xmlns=\"http://www.w3.org/2000/svg\" height=\"24px\"viewBox=\"0 0 24 24\"\n",
              "       width=\"24px\">\n",
              "    <path d=\"M0 0h24v24H0V0z\" fill=\"none\"/>\n",
              "    <path d=\"M18.56 5.44l.94 2.06.94-2.06 2.06-.94-2.06-.94-.94-2.06-.94 2.06-2.06.94zm-11 1L8.5 8.5l.94-2.06 2.06-.94-2.06-.94L8.5 2.5l-.94 2.06-2.06.94zm10 10l.94 2.06.94-2.06 2.06-.94-2.06-.94-.94-2.06-.94 2.06-2.06.94z\"/><path d=\"M17.41 7.96l-1.37-1.37c-.4-.4-.92-.59-1.43-.59-.52 0-1.04.2-1.43.59L10.3 9.45l-7.72 7.72c-.78.78-.78 2.05 0 2.83L4 21.41c.39.39.9.59 1.41.59.51 0 1.02-.2 1.41-.59l7.78-7.78 2.81-2.81c.8-.78.8-2.07 0-2.86zM5.41 20L4 18.59l7.72-7.72 1.47 1.35L5.41 20z\"/>\n",
              "  </svg>\n",
              "      </button>\n",
              "      \n",
              "  <style>\n",
              "    .colab-df-container {\n",
              "      display:flex;\n",
              "      flex-wrap:wrap;\n",
              "      gap: 12px;\n",
              "    }\n",
              "\n",
              "    .colab-df-convert {\n",
              "      background-color: #E8F0FE;\n",
              "      border: none;\n",
              "      border-radius: 50%;\n",
              "      cursor: pointer;\n",
              "      display: none;\n",
              "      fill: #1967D2;\n",
              "      height: 32px;\n",
              "      padding: 0 0 0 0;\n",
              "      width: 32px;\n",
              "    }\n",
              "\n",
              "    .colab-df-convert:hover {\n",
              "      background-color: #E2EBFA;\n",
              "      box-shadow: 0px 1px 2px rgba(60, 64, 67, 0.3), 0px 1px 3px 1px rgba(60, 64, 67, 0.15);\n",
              "      fill: #174EA6;\n",
              "    }\n",
              "\n",
              "    [theme=dark] .colab-df-convert {\n",
              "      background-color: #3B4455;\n",
              "      fill: #D2E3FC;\n",
              "    }\n",
              "\n",
              "    [theme=dark] .colab-df-convert:hover {\n",
              "      background-color: #434B5C;\n",
              "      box-shadow: 0px 1px 3px 1px rgba(0, 0, 0, 0.15);\n",
              "      filter: drop-shadow(0px 1px 2px rgba(0, 0, 0, 0.3));\n",
              "      fill: #FFFFFF;\n",
              "    }\n",
              "  </style>\n",
              "\n",
              "      <script>\n",
              "        const buttonEl =\n",
              "          document.querySelector('#df-97e14992-0ccf-4c3f-a972-43b5e368817d button.colab-df-convert');\n",
              "        buttonEl.style.display =\n",
              "          google.colab.kernel.accessAllowed ? 'block' : 'none';\n",
              "\n",
              "        async function convertToInteractive(key) {\n",
              "          const element = document.querySelector('#df-97e14992-0ccf-4c3f-a972-43b5e368817d');\n",
              "          const dataTable =\n",
              "            await google.colab.kernel.invokeFunction('convertToInteractive',\n",
              "                                                     [key], {});\n",
              "          if (!dataTable) return;\n",
              "\n",
              "          const docLinkHtml = 'Like what you see? Visit the ' +\n",
              "            '<a target=\"_blank\" href=https://colab.research.google.com/notebooks/data_table.ipynb>data table notebook</a>'\n",
              "            + ' to learn more about interactive tables.';\n",
              "          element.innerHTML = '';\n",
              "          dataTable['output_type'] = 'display_data';\n",
              "          await google.colab.output.renderOutput(dataTable, element);\n",
              "          const docLink = document.createElement('div');\n",
              "          docLink.innerHTML = docLinkHtml;\n",
              "          element.appendChild(docLink);\n",
              "        }\n",
              "      </script>\n",
              "    </div>\n",
              "  </div>\n",
              "  "
            ]
          },
          "metadata": {},
          "execution_count": 10
        }
      ],
      "source": [
        "# Create a dataframe by combining all the lists created above\n",
        "df_train_neg = pd.DataFrame()\n",
        "df_train_neg['id'] = train_neg_id\n",
        "df_train_neg['rating'] = train_neg_rating\n",
        "df_train_neg['review'] = train_neg_review\n",
        "print(len(df_train_neg))\n",
        "df_train_neg.head()"
      ]
    },
    {
      "cell_type": "code",
      "execution_count": 12,
      "metadata": {
        "colab": {
          "base_uri": "https://localhost:8080/"
        },
        "id": "-PfDvIdSzVFq",
        "outputId": "7c9c3dc0-9f01-4c09-8d9f-f09ae0559415"
      },
      "outputs": [
        {
          "output_type": "stream",
          "name": "stdout",
          "text": [
            "/content/drive/Shareddrives/CMPE_255_Project/Dataset-Final/test/pos\n"
          ]
        }
      ],
      "source": [
        "# change directory before performing file open operations \n",
        "%cd /content/drive/Shareddrives/CMPE_255_Project/Dataset-Final/test/pos"
      ]
    },
    {
      "cell_type": "code",
      "execution_count": null,
      "metadata": {
        "id": "CMIAaLFXoduo"
      },
      "outputs": [],
      "source": [
        "# Read all the files from test/pos folder\n",
        "# Create lists for unique ID and rating which can obtained from the file name - test_pos_id and test_pos_rating\n",
        "# Append the content (review) of each text file into a list - test_pos_review\n",
        "\n",
        "test_pos_path = '/content/drive/Shareddrives/CMPE_255_Project/Dataset-Final/test/pos'\n",
        "test_pos_files = os.listdir(test_pos_path)\n",
        "\n",
        "test_pos_files\n",
        "test_pos_id = []\n",
        "test_pos_rating = []\n",
        "test_pos_review = []\n",
        "\n",
        "for filename in test_pos_files:\n",
        "  with open(filename, \"r\") as file:\n",
        "    content = file.read()\n",
        "    test_pos_review.append(content)\n",
        "\n",
        "  filename, extension = os.path.splitext(filename)\n",
        "  id, rating = filename.split('_', 1)\n",
        "  test_pos_id.append(id)\n",
        "  test_pos_rating.append(int(rating))"
      ]
    },
    {
      "cell_type": "code",
      "execution_count": 14,
      "metadata": {
        "colab": {
          "base_uri": "https://localhost:8080/",
          "height": 224
        },
        "id": "5vy0NSH2ouvE",
        "outputId": "e74827f7-a162-4d65-f775-40c5d0520005"
      },
      "outputs": [
        {
          "output_type": "stream",
          "name": "stdout",
          "text": [
            "12500\n"
          ]
        },
        {
          "output_type": "execute_result",
          "data": {
            "text/plain": [
              "      id  rating                                             review\n",
              "0  10422       9  Wow, I've sure seen quite a bit of Kelli McCar...\n",
              "1  10399      10  Beyond The Clouds is a hauntingly beautiful, e...\n",
              "2   1036      10  Absolutely the best thing I have ever seen on ...\n",
              "3  10141       8  Certainly this film has the ring of truth abou...\n",
              "4   1011       8  I've been strangely attracted to this film sin..."
            ],
            "text/html": [
              "\n",
              "  <div id=\"df-6e5067b1-af91-431b-99f7-19767ed1c1b6\">\n",
              "    <div class=\"colab-df-container\">\n",
              "      <div>\n",
              "<style scoped>\n",
              "    .dataframe tbody tr th:only-of-type {\n",
              "        vertical-align: middle;\n",
              "    }\n",
              "\n",
              "    .dataframe tbody tr th {\n",
              "        vertical-align: top;\n",
              "    }\n",
              "\n",
              "    .dataframe thead th {\n",
              "        text-align: right;\n",
              "    }\n",
              "</style>\n",
              "<table border=\"1\" class=\"dataframe\">\n",
              "  <thead>\n",
              "    <tr style=\"text-align: right;\">\n",
              "      <th></th>\n",
              "      <th>id</th>\n",
              "      <th>rating</th>\n",
              "      <th>review</th>\n",
              "    </tr>\n",
              "  </thead>\n",
              "  <tbody>\n",
              "    <tr>\n",
              "      <th>0</th>\n",
              "      <td>10422</td>\n",
              "      <td>9</td>\n",
              "      <td>Wow, I've sure seen quite a bit of Kelli McCar...</td>\n",
              "    </tr>\n",
              "    <tr>\n",
              "      <th>1</th>\n",
              "      <td>10399</td>\n",
              "      <td>10</td>\n",
              "      <td>Beyond The Clouds is a hauntingly beautiful, e...</td>\n",
              "    </tr>\n",
              "    <tr>\n",
              "      <th>2</th>\n",
              "      <td>1036</td>\n",
              "      <td>10</td>\n",
              "      <td>Absolutely the best thing I have ever seen on ...</td>\n",
              "    </tr>\n",
              "    <tr>\n",
              "      <th>3</th>\n",
              "      <td>10141</td>\n",
              "      <td>8</td>\n",
              "      <td>Certainly this film has the ring of truth abou...</td>\n",
              "    </tr>\n",
              "    <tr>\n",
              "      <th>4</th>\n",
              "      <td>1011</td>\n",
              "      <td>8</td>\n",
              "      <td>I've been strangely attracted to this film sin...</td>\n",
              "    </tr>\n",
              "  </tbody>\n",
              "</table>\n",
              "</div>\n",
              "      <button class=\"colab-df-convert\" onclick=\"convertToInteractive('df-6e5067b1-af91-431b-99f7-19767ed1c1b6')\"\n",
              "              title=\"Convert this dataframe to an interactive table.\"\n",
              "              style=\"display:none;\">\n",
              "        \n",
              "  <svg xmlns=\"http://www.w3.org/2000/svg\" height=\"24px\"viewBox=\"0 0 24 24\"\n",
              "       width=\"24px\">\n",
              "    <path d=\"M0 0h24v24H0V0z\" fill=\"none\"/>\n",
              "    <path d=\"M18.56 5.44l.94 2.06.94-2.06 2.06-.94-2.06-.94-.94-2.06-.94 2.06-2.06.94zm-11 1L8.5 8.5l.94-2.06 2.06-.94-2.06-.94L8.5 2.5l-.94 2.06-2.06.94zm10 10l.94 2.06.94-2.06 2.06-.94-2.06-.94-.94-2.06-.94 2.06-2.06.94z\"/><path d=\"M17.41 7.96l-1.37-1.37c-.4-.4-.92-.59-1.43-.59-.52 0-1.04.2-1.43.59L10.3 9.45l-7.72 7.72c-.78.78-.78 2.05 0 2.83L4 21.41c.39.39.9.59 1.41.59.51 0 1.02-.2 1.41-.59l7.78-7.78 2.81-2.81c.8-.78.8-2.07 0-2.86zM5.41 20L4 18.59l7.72-7.72 1.47 1.35L5.41 20z\"/>\n",
              "  </svg>\n",
              "      </button>\n",
              "      \n",
              "  <style>\n",
              "    .colab-df-container {\n",
              "      display:flex;\n",
              "      flex-wrap:wrap;\n",
              "      gap: 12px;\n",
              "    }\n",
              "\n",
              "    .colab-df-convert {\n",
              "      background-color: #E8F0FE;\n",
              "      border: none;\n",
              "      border-radius: 50%;\n",
              "      cursor: pointer;\n",
              "      display: none;\n",
              "      fill: #1967D2;\n",
              "      height: 32px;\n",
              "      padding: 0 0 0 0;\n",
              "      width: 32px;\n",
              "    }\n",
              "\n",
              "    .colab-df-convert:hover {\n",
              "      background-color: #E2EBFA;\n",
              "      box-shadow: 0px 1px 2px rgba(60, 64, 67, 0.3), 0px 1px 3px 1px rgba(60, 64, 67, 0.15);\n",
              "      fill: #174EA6;\n",
              "    }\n",
              "\n",
              "    [theme=dark] .colab-df-convert {\n",
              "      background-color: #3B4455;\n",
              "      fill: #D2E3FC;\n",
              "    }\n",
              "\n",
              "    [theme=dark] .colab-df-convert:hover {\n",
              "      background-color: #434B5C;\n",
              "      box-shadow: 0px 1px 3px 1px rgba(0, 0, 0, 0.15);\n",
              "      filter: drop-shadow(0px 1px 2px rgba(0, 0, 0, 0.3));\n",
              "      fill: #FFFFFF;\n",
              "    }\n",
              "  </style>\n",
              "\n",
              "      <script>\n",
              "        const buttonEl =\n",
              "          document.querySelector('#df-6e5067b1-af91-431b-99f7-19767ed1c1b6 button.colab-df-convert');\n",
              "        buttonEl.style.display =\n",
              "          google.colab.kernel.accessAllowed ? 'block' : 'none';\n",
              "\n",
              "        async function convertToInteractive(key) {\n",
              "          const element = document.querySelector('#df-6e5067b1-af91-431b-99f7-19767ed1c1b6');\n",
              "          const dataTable =\n",
              "            await google.colab.kernel.invokeFunction('convertToInteractive',\n",
              "                                                     [key], {});\n",
              "          if (!dataTable) return;\n",
              "\n",
              "          const docLinkHtml = 'Like what you see? Visit the ' +\n",
              "            '<a target=\"_blank\" href=https://colab.research.google.com/notebooks/data_table.ipynb>data table notebook</a>'\n",
              "            + ' to learn more about interactive tables.';\n",
              "          element.innerHTML = '';\n",
              "          dataTable['output_type'] = 'display_data';\n",
              "          await google.colab.output.renderOutput(dataTable, element);\n",
              "          const docLink = document.createElement('div');\n",
              "          docLink.innerHTML = docLinkHtml;\n",
              "          element.appendChild(docLink);\n",
              "        }\n",
              "      </script>\n",
              "    </div>\n",
              "  </div>\n",
              "  "
            ]
          },
          "metadata": {},
          "execution_count": 14
        }
      ],
      "source": [
        "# Create a dataframe by combining all the lists created above\n",
        "df_test_pos = pd.DataFrame()\n",
        "df_test_pos['id'] = test_pos_id\n",
        "df_test_pos['rating'] = test_pos_rating\n",
        "df_test_pos['review'] = test_pos_review\n",
        "print(len(df_test_pos))\n",
        "df_test_pos.head()"
      ]
    },
    {
      "cell_type": "code",
      "execution_count": 16,
      "metadata": {
        "colab": {
          "base_uri": "https://localhost:8080/"
        },
        "id": "2jm3HJUWzfx8",
        "outputId": "83b000f5-ee98-4929-9bb0-cdd516a08f37"
      },
      "outputs": [
        {
          "output_type": "stream",
          "name": "stdout",
          "text": [
            "/content/drive/Shareddrives/CMPE_255_Project/Dataset-Final/test/neg\n"
          ]
        }
      ],
      "source": [
        "# change directory before performing file open operations \n",
        "%cd /content/drive/Shareddrives/CMPE_255_Project/Dataset-Final/test/neg"
      ]
    },
    {
      "cell_type": "code",
      "execution_count": null,
      "metadata": {
        "id": "RJ7N0NOYn58p"
      },
      "outputs": [],
      "source": [
        "# Read all the files from test/neg folder\n",
        "# Create lists for unique ID and rating which can obtained from the file name - test_neg_id and test_neg_rating\n",
        "# Append the content (review) of each text file into a list - test_neg_review\n",
        "\n",
        "test_neg_path = '/content/drive/Shareddrives/CMPE_255_Project/Dataset-Final/test/neg'\n",
        "test_neg_files = os.listdir(test_neg_path)\n",
        "\n",
        "test_neg_files\n",
        "test_neg_id = []\n",
        "test_neg_rating = []\n",
        "test_neg_review = []\n",
        "\n",
        "for filename in test_neg_files:\n",
        "  with open(filename, \"r\") as file:\n",
        "    content = file.read()\n",
        "    test_neg_review.append(content)\n",
        "\n",
        "  filename, extension = os.path.splitext(filename)\n",
        "  id, rating = filename.split('_', 1)\n",
        "  test_neg_id.append(id)\n",
        "  test_neg_rating.append(int(rating))"
      ]
    },
    {
      "cell_type": "code",
      "execution_count": 18,
      "metadata": {
        "id": "VVz3JkKwoTGj",
        "colab": {
          "base_uri": "https://localhost:8080/",
          "height": 224
        },
        "outputId": "d8839d54-e57b-4084-8dc1-7429fec4f4b5"
      },
      "outputs": [
        {
          "output_type": "stream",
          "name": "stdout",
          "text": [
            "12500\n"
          ]
        },
        {
          "output_type": "execute_result",
          "data": {
            "text/plain": [
              "     id  rating                                             review\n",
              "0  2094       3  Not to be mistaken as the highly touted Samuel...\n",
              "1  2024       1  Have I seen a worse movie? No I can't say that...\n",
              "2   198       3  When a friend once lambasted me for my first m...\n",
              "3  1944       4  Okay, so the movie went straight to video. If ...\n",
              "4  1856       3  In following Dylan Moran's star from the charm..."
            ],
            "text/html": [
              "\n",
              "  <div id=\"df-a59f92e9-3bf8-409c-be04-c4c2497b4672\">\n",
              "    <div class=\"colab-df-container\">\n",
              "      <div>\n",
              "<style scoped>\n",
              "    .dataframe tbody tr th:only-of-type {\n",
              "        vertical-align: middle;\n",
              "    }\n",
              "\n",
              "    .dataframe tbody tr th {\n",
              "        vertical-align: top;\n",
              "    }\n",
              "\n",
              "    .dataframe thead th {\n",
              "        text-align: right;\n",
              "    }\n",
              "</style>\n",
              "<table border=\"1\" class=\"dataframe\">\n",
              "  <thead>\n",
              "    <tr style=\"text-align: right;\">\n",
              "      <th></th>\n",
              "      <th>id</th>\n",
              "      <th>rating</th>\n",
              "      <th>review</th>\n",
              "    </tr>\n",
              "  </thead>\n",
              "  <tbody>\n",
              "    <tr>\n",
              "      <th>0</th>\n",
              "      <td>2094</td>\n",
              "      <td>3</td>\n",
              "      <td>Not to be mistaken as the highly touted Samuel...</td>\n",
              "    </tr>\n",
              "    <tr>\n",
              "      <th>1</th>\n",
              "      <td>2024</td>\n",
              "      <td>1</td>\n",
              "      <td>Have I seen a worse movie? No I can't say that...</td>\n",
              "    </tr>\n",
              "    <tr>\n",
              "      <th>2</th>\n",
              "      <td>198</td>\n",
              "      <td>3</td>\n",
              "      <td>When a friend once lambasted me for my first m...</td>\n",
              "    </tr>\n",
              "    <tr>\n",
              "      <th>3</th>\n",
              "      <td>1944</td>\n",
              "      <td>4</td>\n",
              "      <td>Okay, so the movie went straight to video. If ...</td>\n",
              "    </tr>\n",
              "    <tr>\n",
              "      <th>4</th>\n",
              "      <td>1856</td>\n",
              "      <td>3</td>\n",
              "      <td>In following Dylan Moran's star from the charm...</td>\n",
              "    </tr>\n",
              "  </tbody>\n",
              "</table>\n",
              "</div>\n",
              "      <button class=\"colab-df-convert\" onclick=\"convertToInteractive('df-a59f92e9-3bf8-409c-be04-c4c2497b4672')\"\n",
              "              title=\"Convert this dataframe to an interactive table.\"\n",
              "              style=\"display:none;\">\n",
              "        \n",
              "  <svg xmlns=\"http://www.w3.org/2000/svg\" height=\"24px\"viewBox=\"0 0 24 24\"\n",
              "       width=\"24px\">\n",
              "    <path d=\"M0 0h24v24H0V0z\" fill=\"none\"/>\n",
              "    <path d=\"M18.56 5.44l.94 2.06.94-2.06 2.06-.94-2.06-.94-.94-2.06-.94 2.06-2.06.94zm-11 1L8.5 8.5l.94-2.06 2.06-.94-2.06-.94L8.5 2.5l-.94 2.06-2.06.94zm10 10l.94 2.06.94-2.06 2.06-.94-2.06-.94-.94-2.06-.94 2.06-2.06.94z\"/><path d=\"M17.41 7.96l-1.37-1.37c-.4-.4-.92-.59-1.43-.59-.52 0-1.04.2-1.43.59L10.3 9.45l-7.72 7.72c-.78.78-.78 2.05 0 2.83L4 21.41c.39.39.9.59 1.41.59.51 0 1.02-.2 1.41-.59l7.78-7.78 2.81-2.81c.8-.78.8-2.07 0-2.86zM5.41 20L4 18.59l7.72-7.72 1.47 1.35L5.41 20z\"/>\n",
              "  </svg>\n",
              "      </button>\n",
              "      \n",
              "  <style>\n",
              "    .colab-df-container {\n",
              "      display:flex;\n",
              "      flex-wrap:wrap;\n",
              "      gap: 12px;\n",
              "    }\n",
              "\n",
              "    .colab-df-convert {\n",
              "      background-color: #E8F0FE;\n",
              "      border: none;\n",
              "      border-radius: 50%;\n",
              "      cursor: pointer;\n",
              "      display: none;\n",
              "      fill: #1967D2;\n",
              "      height: 32px;\n",
              "      padding: 0 0 0 0;\n",
              "      width: 32px;\n",
              "    }\n",
              "\n",
              "    .colab-df-convert:hover {\n",
              "      background-color: #E2EBFA;\n",
              "      box-shadow: 0px 1px 2px rgba(60, 64, 67, 0.3), 0px 1px 3px 1px rgba(60, 64, 67, 0.15);\n",
              "      fill: #174EA6;\n",
              "    }\n",
              "\n",
              "    [theme=dark] .colab-df-convert {\n",
              "      background-color: #3B4455;\n",
              "      fill: #D2E3FC;\n",
              "    }\n",
              "\n",
              "    [theme=dark] .colab-df-convert:hover {\n",
              "      background-color: #434B5C;\n",
              "      box-shadow: 0px 1px 3px 1px rgba(0, 0, 0, 0.15);\n",
              "      filter: drop-shadow(0px 1px 2px rgba(0, 0, 0, 0.3));\n",
              "      fill: #FFFFFF;\n",
              "    }\n",
              "  </style>\n",
              "\n",
              "      <script>\n",
              "        const buttonEl =\n",
              "          document.querySelector('#df-a59f92e9-3bf8-409c-be04-c4c2497b4672 button.colab-df-convert');\n",
              "        buttonEl.style.display =\n",
              "          google.colab.kernel.accessAllowed ? 'block' : 'none';\n",
              "\n",
              "        async function convertToInteractive(key) {\n",
              "          const element = document.querySelector('#df-a59f92e9-3bf8-409c-be04-c4c2497b4672');\n",
              "          const dataTable =\n",
              "            await google.colab.kernel.invokeFunction('convertToInteractive',\n",
              "                                                     [key], {});\n",
              "          if (!dataTable) return;\n",
              "\n",
              "          const docLinkHtml = 'Like what you see? Visit the ' +\n",
              "            '<a target=\"_blank\" href=https://colab.research.google.com/notebooks/data_table.ipynb>data table notebook</a>'\n",
              "            + ' to learn more about interactive tables.';\n",
              "          element.innerHTML = '';\n",
              "          dataTable['output_type'] = 'display_data';\n",
              "          await google.colab.output.renderOutput(dataTable, element);\n",
              "          const docLink = document.createElement('div');\n",
              "          docLink.innerHTML = docLinkHtml;\n",
              "          element.appendChild(docLink);\n",
              "        }\n",
              "      </script>\n",
              "    </div>\n",
              "  </div>\n",
              "  "
            ]
          },
          "metadata": {},
          "execution_count": 18
        }
      ],
      "source": [
        "# Create a dataframe by combining all the lists created above\n",
        "df_test_neg = pd.DataFrame()\n",
        "df_test_neg['id'] = test_neg_id\n",
        "df_test_neg['rating'] = test_neg_rating\n",
        "df_test_neg['review'] = test_neg_review\n",
        "print(len(df_test_neg))\n",
        "df_test_neg.head()"
      ]
    },
    {
      "cell_type": "code",
      "execution_count": null,
      "metadata": {
        "id": "QFpsDQUx5emq"
      },
      "outputs": [],
      "source": [
        "# Merge postive and negative train dataframe into one\n",
        "df_train_merged = df_train_pos.append(df_train_neg)"
      ]
    },
    {
      "cell_type": "code",
      "execution_count": null,
      "metadata": {
        "id": "WExOCQEP98Oh"
      },
      "outputs": [],
      "source": [
        "# Merge postive and negative test dataframe into one\n",
        "df_test_merged = df_test_pos.append(df_test_neg)"
      ]
    },
    {
      "cell_type": "code",
      "execution_count": 27,
      "metadata": {
        "colab": {
          "base_uri": "https://localhost:8080/",
          "height": 224
        },
        "id": "kmViWffWALgH",
        "outputId": "a1ca7d30-f880-45cb-bd2d-8b5aae2e7679"
      },
      "outputs": [
        {
          "output_type": "execute_result",
          "data": {
            "text/plain": [
              "(50000, 3)"
            ]
          },
          "metadata": {},
          "execution_count": 27
        },
        {
          "output_type": "execute_result",
          "data": {
            "text/plain": [
              "      id  rating                                             review\n",
              "0   5670       8  This film is a sleeper because Rod Steiger's i...\n",
              "1   2889      10  ***Might not consider this having a spoiler, b...\n",
              "2  11475       8  Zero day has a purpose and this is not simply ...\n",
              "3    499       8  The pilot of Enterprise has one thing that has...\n",
              "4   1392       1  What is it now-a-days that minority comedians ..."
            ],
            "text/html": [
              "\n",
              "  <div id=\"df-6f2d3cf3-cd9a-4d5a-910e-d991a55b9891\">\n",
              "    <div class=\"colab-df-container\">\n",
              "      <div>\n",
              "<style scoped>\n",
              "    .dataframe tbody tr th:only-of-type {\n",
              "        vertical-align: middle;\n",
              "    }\n",
              "\n",
              "    .dataframe tbody tr th {\n",
              "        vertical-align: top;\n",
              "    }\n",
              "\n",
              "    .dataframe thead th {\n",
              "        text-align: right;\n",
              "    }\n",
              "</style>\n",
              "<table border=\"1\" class=\"dataframe\">\n",
              "  <thead>\n",
              "    <tr style=\"text-align: right;\">\n",
              "      <th></th>\n",
              "      <th>id</th>\n",
              "      <th>rating</th>\n",
              "      <th>review</th>\n",
              "    </tr>\n",
              "  </thead>\n",
              "  <tbody>\n",
              "    <tr>\n",
              "      <th>0</th>\n",
              "      <td>5670</td>\n",
              "      <td>8</td>\n",
              "      <td>This film is a sleeper because Rod Steiger's i...</td>\n",
              "    </tr>\n",
              "    <tr>\n",
              "      <th>1</th>\n",
              "      <td>2889</td>\n",
              "      <td>10</td>\n",
              "      <td>***Might not consider this having a spoiler, b...</td>\n",
              "    </tr>\n",
              "    <tr>\n",
              "      <th>2</th>\n",
              "      <td>11475</td>\n",
              "      <td>8</td>\n",
              "      <td>Zero day has a purpose and this is not simply ...</td>\n",
              "    </tr>\n",
              "    <tr>\n",
              "      <th>3</th>\n",
              "      <td>499</td>\n",
              "      <td>8</td>\n",
              "      <td>The pilot of Enterprise has one thing that has...</td>\n",
              "    </tr>\n",
              "    <tr>\n",
              "      <th>4</th>\n",
              "      <td>1392</td>\n",
              "      <td>1</td>\n",
              "      <td>What is it now-a-days that minority comedians ...</td>\n",
              "    </tr>\n",
              "  </tbody>\n",
              "</table>\n",
              "</div>\n",
              "      <button class=\"colab-df-convert\" onclick=\"convertToInteractive('df-6f2d3cf3-cd9a-4d5a-910e-d991a55b9891')\"\n",
              "              title=\"Convert this dataframe to an interactive table.\"\n",
              "              style=\"display:none;\">\n",
              "        \n",
              "  <svg xmlns=\"http://www.w3.org/2000/svg\" height=\"24px\"viewBox=\"0 0 24 24\"\n",
              "       width=\"24px\">\n",
              "    <path d=\"M0 0h24v24H0V0z\" fill=\"none\"/>\n",
              "    <path d=\"M18.56 5.44l.94 2.06.94-2.06 2.06-.94-2.06-.94-.94-2.06-.94 2.06-2.06.94zm-11 1L8.5 8.5l.94-2.06 2.06-.94-2.06-.94L8.5 2.5l-.94 2.06-2.06.94zm10 10l.94 2.06.94-2.06 2.06-.94-2.06-.94-.94-2.06-.94 2.06-2.06.94z\"/><path d=\"M17.41 7.96l-1.37-1.37c-.4-.4-.92-.59-1.43-.59-.52 0-1.04.2-1.43.59L10.3 9.45l-7.72 7.72c-.78.78-.78 2.05 0 2.83L4 21.41c.39.39.9.59 1.41.59.51 0 1.02-.2 1.41-.59l7.78-7.78 2.81-2.81c.8-.78.8-2.07 0-2.86zM5.41 20L4 18.59l7.72-7.72 1.47 1.35L5.41 20z\"/>\n",
              "  </svg>\n",
              "      </button>\n",
              "      \n",
              "  <style>\n",
              "    .colab-df-container {\n",
              "      display:flex;\n",
              "      flex-wrap:wrap;\n",
              "      gap: 12px;\n",
              "    }\n",
              "\n",
              "    .colab-df-convert {\n",
              "      background-color: #E8F0FE;\n",
              "      border: none;\n",
              "      border-radius: 50%;\n",
              "      cursor: pointer;\n",
              "      display: none;\n",
              "      fill: #1967D2;\n",
              "      height: 32px;\n",
              "      padding: 0 0 0 0;\n",
              "      width: 32px;\n",
              "    }\n",
              "\n",
              "    .colab-df-convert:hover {\n",
              "      background-color: #E2EBFA;\n",
              "      box-shadow: 0px 1px 2px rgba(60, 64, 67, 0.3), 0px 1px 3px 1px rgba(60, 64, 67, 0.15);\n",
              "      fill: #174EA6;\n",
              "    }\n",
              "\n",
              "    [theme=dark] .colab-df-convert {\n",
              "      background-color: #3B4455;\n",
              "      fill: #D2E3FC;\n",
              "    }\n",
              "\n",
              "    [theme=dark] .colab-df-convert:hover {\n",
              "      background-color: #434B5C;\n",
              "      box-shadow: 0px 1px 3px 1px rgba(0, 0, 0, 0.15);\n",
              "      filter: drop-shadow(0px 1px 2px rgba(0, 0, 0, 0.3));\n",
              "      fill: #FFFFFF;\n",
              "    }\n",
              "  </style>\n",
              "\n",
              "      <script>\n",
              "        const buttonEl =\n",
              "          document.querySelector('#df-6f2d3cf3-cd9a-4d5a-910e-d991a55b9891 button.colab-df-convert');\n",
              "        buttonEl.style.display =\n",
              "          google.colab.kernel.accessAllowed ? 'block' : 'none';\n",
              "\n",
              "        async function convertToInteractive(key) {\n",
              "          const element = document.querySelector('#df-6f2d3cf3-cd9a-4d5a-910e-d991a55b9891');\n",
              "          const dataTable =\n",
              "            await google.colab.kernel.invokeFunction('convertToInteractive',\n",
              "                                                     [key], {});\n",
              "          if (!dataTable) return;\n",
              "\n",
              "          const docLinkHtml = 'Like what you see? Visit the ' +\n",
              "            '<a target=\"_blank\" href=https://colab.research.google.com/notebooks/data_table.ipynb>data table notebook</a>'\n",
              "            + ' to learn more about interactive tables.';\n",
              "          element.innerHTML = '';\n",
              "          dataTable['output_type'] = 'display_data';\n",
              "          await google.colab.output.renderOutput(dataTable, element);\n",
              "          const docLink = document.createElement('div');\n",
              "          docLink.innerHTML = docLinkHtml;\n",
              "          element.appendChild(docLink);\n",
              "        }\n",
              "      </script>\n",
              "    </div>\n",
              "  </div>\n",
              "  "
            ]
          },
          "metadata": {},
          "execution_count": 27
        }
      ],
      "source": [
        "# Merge train and test dataframes into one\n",
        "# We are doing this because we think that the current train-test data split in sub-optimal and we should be training on a bigger dataset\n",
        "df_merged = df_train_merged.append(df_test_merged)\n",
        "\n",
        "# Shuffle dataframe since we have ~25000 continuous positives and ~25000 negatives and we don't want our model to learn something as noise\n",
        "# frac=1 means all rows of a data frame\n",
        "# random_state=42 means keeping the same order in each execution\n",
        "# reset_index(drop=True) means reinitialize index for randomized dataframe\n",
        "\n",
        "df_merged = df_merged.sample(frac=1, random_state=42).reset_index(drop=True)\n",
        "df_merged.shape\n",
        "df_merged.head()"
      ]
    },
    {
      "cell_type": "markdown",
      "source": [
        "**Assign sentiment based on the rating**"
      ],
      "metadata": {
        "id": "dYHCrcZhpBgc"
      }
    },
    {
      "cell_type": "code",
      "source": [
        "# create a list of our conditions\n",
        "conditions = [\n",
        "    (df_merged['rating'] <= 4),\n",
        "    (df_merged['rating'] > 4) & (df_merged['rating'] < 7),\n",
        "    (df_merged['rating'] >= 7)\n",
        "    ]\n",
        "\n",
        "# create a list of the values we want to assign for each condition\n",
        "values = ['negative', 'neutral', 'positive']\n",
        "\n",
        "# create a new column and use np.select to assign values to it using our lists as arguments\n",
        "df_merged['sentiment'] = np.select(conditions, values)\n",
        "\n",
        "# display updated DataFrame\n",
        "df_merged.head()"
      ],
      "metadata": {
        "id": "RY_XTbr1rh0z",
        "colab": {
          "base_uri": "https://localhost:8080/",
          "height": 206
        },
        "outputId": "4639c785-f6ff-4841-e545-e3c2b33a360e"
      },
      "execution_count": 28,
      "outputs": [
        {
          "output_type": "execute_result",
          "data": {
            "text/plain": [
              "      id  rating                                             review sentiment\n",
              "0   5670       8  This film is a sleeper because Rod Steiger's i...  positive\n",
              "1   2889      10  ***Might not consider this having a spoiler, b...  positive\n",
              "2  11475       8  Zero day has a purpose and this is not simply ...  positive\n",
              "3    499       8  The pilot of Enterprise has one thing that has...  positive\n",
              "4   1392       1  What is it now-a-days that minority comedians ...  negative"
            ],
            "text/html": [
              "\n",
              "  <div id=\"df-03d1a74c-3834-43bc-8c47-32df31bc86de\">\n",
              "    <div class=\"colab-df-container\">\n",
              "      <div>\n",
              "<style scoped>\n",
              "    .dataframe tbody tr th:only-of-type {\n",
              "        vertical-align: middle;\n",
              "    }\n",
              "\n",
              "    .dataframe tbody tr th {\n",
              "        vertical-align: top;\n",
              "    }\n",
              "\n",
              "    .dataframe thead th {\n",
              "        text-align: right;\n",
              "    }\n",
              "</style>\n",
              "<table border=\"1\" class=\"dataframe\">\n",
              "  <thead>\n",
              "    <tr style=\"text-align: right;\">\n",
              "      <th></th>\n",
              "      <th>id</th>\n",
              "      <th>rating</th>\n",
              "      <th>review</th>\n",
              "      <th>sentiment</th>\n",
              "    </tr>\n",
              "  </thead>\n",
              "  <tbody>\n",
              "    <tr>\n",
              "      <th>0</th>\n",
              "      <td>5670</td>\n",
              "      <td>8</td>\n",
              "      <td>This film is a sleeper because Rod Steiger's i...</td>\n",
              "      <td>positive</td>\n",
              "    </tr>\n",
              "    <tr>\n",
              "      <th>1</th>\n",
              "      <td>2889</td>\n",
              "      <td>10</td>\n",
              "      <td>***Might not consider this having a spoiler, b...</td>\n",
              "      <td>positive</td>\n",
              "    </tr>\n",
              "    <tr>\n",
              "      <th>2</th>\n",
              "      <td>11475</td>\n",
              "      <td>8</td>\n",
              "      <td>Zero day has a purpose and this is not simply ...</td>\n",
              "      <td>positive</td>\n",
              "    </tr>\n",
              "    <tr>\n",
              "      <th>3</th>\n",
              "      <td>499</td>\n",
              "      <td>8</td>\n",
              "      <td>The pilot of Enterprise has one thing that has...</td>\n",
              "      <td>positive</td>\n",
              "    </tr>\n",
              "    <tr>\n",
              "      <th>4</th>\n",
              "      <td>1392</td>\n",
              "      <td>1</td>\n",
              "      <td>What is it now-a-days that minority comedians ...</td>\n",
              "      <td>negative</td>\n",
              "    </tr>\n",
              "  </tbody>\n",
              "</table>\n",
              "</div>\n",
              "      <button class=\"colab-df-convert\" onclick=\"convertToInteractive('df-03d1a74c-3834-43bc-8c47-32df31bc86de')\"\n",
              "              title=\"Convert this dataframe to an interactive table.\"\n",
              "              style=\"display:none;\">\n",
              "        \n",
              "  <svg xmlns=\"http://www.w3.org/2000/svg\" height=\"24px\"viewBox=\"0 0 24 24\"\n",
              "       width=\"24px\">\n",
              "    <path d=\"M0 0h24v24H0V0z\" fill=\"none\"/>\n",
              "    <path d=\"M18.56 5.44l.94 2.06.94-2.06 2.06-.94-2.06-.94-.94-2.06-.94 2.06-2.06.94zm-11 1L8.5 8.5l.94-2.06 2.06-.94-2.06-.94L8.5 2.5l-.94 2.06-2.06.94zm10 10l.94 2.06.94-2.06 2.06-.94-2.06-.94-.94-2.06-.94 2.06-2.06.94z\"/><path d=\"M17.41 7.96l-1.37-1.37c-.4-.4-.92-.59-1.43-.59-.52 0-1.04.2-1.43.59L10.3 9.45l-7.72 7.72c-.78.78-.78 2.05 0 2.83L4 21.41c.39.39.9.59 1.41.59.51 0 1.02-.2 1.41-.59l7.78-7.78 2.81-2.81c.8-.78.8-2.07 0-2.86zM5.41 20L4 18.59l7.72-7.72 1.47 1.35L5.41 20z\"/>\n",
              "  </svg>\n",
              "      </button>\n",
              "      \n",
              "  <style>\n",
              "    .colab-df-container {\n",
              "      display:flex;\n",
              "      flex-wrap:wrap;\n",
              "      gap: 12px;\n",
              "    }\n",
              "\n",
              "    .colab-df-convert {\n",
              "      background-color: #E8F0FE;\n",
              "      border: none;\n",
              "      border-radius: 50%;\n",
              "      cursor: pointer;\n",
              "      display: none;\n",
              "      fill: #1967D2;\n",
              "      height: 32px;\n",
              "      padding: 0 0 0 0;\n",
              "      width: 32px;\n",
              "    }\n",
              "\n",
              "    .colab-df-convert:hover {\n",
              "      background-color: #E2EBFA;\n",
              "      box-shadow: 0px 1px 2px rgba(60, 64, 67, 0.3), 0px 1px 3px 1px rgba(60, 64, 67, 0.15);\n",
              "      fill: #174EA6;\n",
              "    }\n",
              "\n",
              "    [theme=dark] .colab-df-convert {\n",
              "      background-color: #3B4455;\n",
              "      fill: #D2E3FC;\n",
              "    }\n",
              "\n",
              "    [theme=dark] .colab-df-convert:hover {\n",
              "      background-color: #434B5C;\n",
              "      box-shadow: 0px 1px 3px 1px rgba(0, 0, 0, 0.15);\n",
              "      filter: drop-shadow(0px 1px 2px rgba(0, 0, 0, 0.3));\n",
              "      fill: #FFFFFF;\n",
              "    }\n",
              "  </style>\n",
              "\n",
              "      <script>\n",
              "        const buttonEl =\n",
              "          document.querySelector('#df-03d1a74c-3834-43bc-8c47-32df31bc86de button.colab-df-convert');\n",
              "        buttonEl.style.display =\n",
              "          google.colab.kernel.accessAllowed ? 'block' : 'none';\n",
              "\n",
              "        async function convertToInteractive(key) {\n",
              "          const element = document.querySelector('#df-03d1a74c-3834-43bc-8c47-32df31bc86de');\n",
              "          const dataTable =\n",
              "            await google.colab.kernel.invokeFunction('convertToInteractive',\n",
              "                                                     [key], {});\n",
              "          if (!dataTable) return;\n",
              "\n",
              "          const docLinkHtml = 'Like what you see? Visit the ' +\n",
              "            '<a target=\"_blank\" href=https://colab.research.google.com/notebooks/data_table.ipynb>data table notebook</a>'\n",
              "            + ' to learn more about interactive tables.';\n",
              "          element.innerHTML = '';\n",
              "          dataTable['output_type'] = 'display_data';\n",
              "          await google.colab.output.renderOutput(dataTable, element);\n",
              "          const docLink = document.createElement('div');\n",
              "          docLink.innerHTML = docLinkHtml;\n",
              "          element.appendChild(docLink);\n",
              "        }\n",
              "      </script>\n",
              "    </div>\n",
              "  </div>\n",
              "  "
            ]
          },
          "metadata": {},
          "execution_count": 28
        }
      ]
    },
    {
      "cell_type": "markdown",
      "source": [
        "**Convert the sentinent in categorical format to numbers**"
      ],
      "metadata": {
        "id": "5KBd7wxMpOZR"
      }
    },
    {
      "cell_type": "code",
      "source": [
        "df_merged['sentiment'].replace(['positive','negative'],[1,0],inplace=True)\n",
        "df_merged.head()"
      ],
      "metadata": {
        "id": "tpjXdmJlr1c_",
        "colab": {
          "base_uri": "https://localhost:8080/",
          "height": 206
        },
        "outputId": "ed7030fc-3532-479a-e860-6a5c022ff0a9"
      },
      "execution_count": 29,
      "outputs": [
        {
          "output_type": "execute_result",
          "data": {
            "text/plain": [
              "      id  rating                                             review  sentiment\n",
              "0   5670       8  This film is a sleeper because Rod Steiger's i...          1\n",
              "1   2889      10  ***Might not consider this having a spoiler, b...          1\n",
              "2  11475       8  Zero day has a purpose and this is not simply ...          1\n",
              "3    499       8  The pilot of Enterprise has one thing that has...          1\n",
              "4   1392       1  What is it now-a-days that minority comedians ...          0"
            ],
            "text/html": [
              "\n",
              "  <div id=\"df-4a313676-5ec1-4c84-b31a-f01f3345f4b2\">\n",
              "    <div class=\"colab-df-container\">\n",
              "      <div>\n",
              "<style scoped>\n",
              "    .dataframe tbody tr th:only-of-type {\n",
              "        vertical-align: middle;\n",
              "    }\n",
              "\n",
              "    .dataframe tbody tr th {\n",
              "        vertical-align: top;\n",
              "    }\n",
              "\n",
              "    .dataframe thead th {\n",
              "        text-align: right;\n",
              "    }\n",
              "</style>\n",
              "<table border=\"1\" class=\"dataframe\">\n",
              "  <thead>\n",
              "    <tr style=\"text-align: right;\">\n",
              "      <th></th>\n",
              "      <th>id</th>\n",
              "      <th>rating</th>\n",
              "      <th>review</th>\n",
              "      <th>sentiment</th>\n",
              "    </tr>\n",
              "  </thead>\n",
              "  <tbody>\n",
              "    <tr>\n",
              "      <th>0</th>\n",
              "      <td>5670</td>\n",
              "      <td>8</td>\n",
              "      <td>This film is a sleeper because Rod Steiger's i...</td>\n",
              "      <td>1</td>\n",
              "    </tr>\n",
              "    <tr>\n",
              "      <th>1</th>\n",
              "      <td>2889</td>\n",
              "      <td>10</td>\n",
              "      <td>***Might not consider this having a spoiler, b...</td>\n",
              "      <td>1</td>\n",
              "    </tr>\n",
              "    <tr>\n",
              "      <th>2</th>\n",
              "      <td>11475</td>\n",
              "      <td>8</td>\n",
              "      <td>Zero day has a purpose and this is not simply ...</td>\n",
              "      <td>1</td>\n",
              "    </tr>\n",
              "    <tr>\n",
              "      <th>3</th>\n",
              "      <td>499</td>\n",
              "      <td>8</td>\n",
              "      <td>The pilot of Enterprise has one thing that has...</td>\n",
              "      <td>1</td>\n",
              "    </tr>\n",
              "    <tr>\n",
              "      <th>4</th>\n",
              "      <td>1392</td>\n",
              "      <td>1</td>\n",
              "      <td>What is it now-a-days that minority comedians ...</td>\n",
              "      <td>0</td>\n",
              "    </tr>\n",
              "  </tbody>\n",
              "</table>\n",
              "</div>\n",
              "      <button class=\"colab-df-convert\" onclick=\"convertToInteractive('df-4a313676-5ec1-4c84-b31a-f01f3345f4b2')\"\n",
              "              title=\"Convert this dataframe to an interactive table.\"\n",
              "              style=\"display:none;\">\n",
              "        \n",
              "  <svg xmlns=\"http://www.w3.org/2000/svg\" height=\"24px\"viewBox=\"0 0 24 24\"\n",
              "       width=\"24px\">\n",
              "    <path d=\"M0 0h24v24H0V0z\" fill=\"none\"/>\n",
              "    <path d=\"M18.56 5.44l.94 2.06.94-2.06 2.06-.94-2.06-.94-.94-2.06-.94 2.06-2.06.94zm-11 1L8.5 8.5l.94-2.06 2.06-.94-2.06-.94L8.5 2.5l-.94 2.06-2.06.94zm10 10l.94 2.06.94-2.06 2.06-.94-2.06-.94-.94-2.06-.94 2.06-2.06.94z\"/><path d=\"M17.41 7.96l-1.37-1.37c-.4-.4-.92-.59-1.43-.59-.52 0-1.04.2-1.43.59L10.3 9.45l-7.72 7.72c-.78.78-.78 2.05 0 2.83L4 21.41c.39.39.9.59 1.41.59.51 0 1.02-.2 1.41-.59l7.78-7.78 2.81-2.81c.8-.78.8-2.07 0-2.86zM5.41 20L4 18.59l7.72-7.72 1.47 1.35L5.41 20z\"/>\n",
              "  </svg>\n",
              "      </button>\n",
              "      \n",
              "  <style>\n",
              "    .colab-df-container {\n",
              "      display:flex;\n",
              "      flex-wrap:wrap;\n",
              "      gap: 12px;\n",
              "    }\n",
              "\n",
              "    .colab-df-convert {\n",
              "      background-color: #E8F0FE;\n",
              "      border: none;\n",
              "      border-radius: 50%;\n",
              "      cursor: pointer;\n",
              "      display: none;\n",
              "      fill: #1967D2;\n",
              "      height: 32px;\n",
              "      padding: 0 0 0 0;\n",
              "      width: 32px;\n",
              "    }\n",
              "\n",
              "    .colab-df-convert:hover {\n",
              "      background-color: #E2EBFA;\n",
              "      box-shadow: 0px 1px 2px rgba(60, 64, 67, 0.3), 0px 1px 3px 1px rgba(60, 64, 67, 0.15);\n",
              "      fill: #174EA6;\n",
              "    }\n",
              "\n",
              "    [theme=dark] .colab-df-convert {\n",
              "      background-color: #3B4455;\n",
              "      fill: #D2E3FC;\n",
              "    }\n",
              "\n",
              "    [theme=dark] .colab-df-convert:hover {\n",
              "      background-color: #434B5C;\n",
              "      box-shadow: 0px 1px 3px 1px rgba(0, 0, 0, 0.15);\n",
              "      filter: drop-shadow(0px 1px 2px rgba(0, 0, 0, 0.3));\n",
              "      fill: #FFFFFF;\n",
              "    }\n",
              "  </style>\n",
              "\n",
              "      <script>\n",
              "        const buttonEl =\n",
              "          document.querySelector('#df-4a313676-5ec1-4c84-b31a-f01f3345f4b2 button.colab-df-convert');\n",
              "        buttonEl.style.display =\n",
              "          google.colab.kernel.accessAllowed ? 'block' : 'none';\n",
              "\n",
              "        async function convertToInteractive(key) {\n",
              "          const element = document.querySelector('#df-4a313676-5ec1-4c84-b31a-f01f3345f4b2');\n",
              "          const dataTable =\n",
              "            await google.colab.kernel.invokeFunction('convertToInteractive',\n",
              "                                                     [key], {});\n",
              "          if (!dataTable) return;\n",
              "\n",
              "          const docLinkHtml = 'Like what you see? Visit the ' +\n",
              "            '<a target=\"_blank\" href=https://colab.research.google.com/notebooks/data_table.ipynb>data table notebook</a>'\n",
              "            + ' to learn more about interactive tables.';\n",
              "          element.innerHTML = '';\n",
              "          dataTable['output_type'] = 'display_data';\n",
              "          await google.colab.output.renderOutput(dataTable, element);\n",
              "          const docLink = document.createElement('div');\n",
              "          docLink.innerHTML = docLinkHtml;\n",
              "          element.appendChild(docLink);\n",
              "        }\n",
              "      </script>\n",
              "    </div>\n",
              "  </div>\n",
              "  "
            ]
          },
          "metadata": {},
          "execution_count": 29
        }
      ]
    },
    {
      "cell_type": "markdown",
      "source": [
        "# **Text Mining** <br>\n",
        "**Remove punctuation marks** <br>"
      ],
      "metadata": {
        "id": "giNCpMHgpZBe"
      }
    },
    {
      "cell_type": "code",
      "execution_count": 31,
      "metadata": {
        "id": "M_MpbVx_2PzN"
      },
      "outputs": [],
      "source": [
        "#remove punctuations\n",
        "def punctuation(sentence):\n",
        "    review = [letters.lower() for letters in sentence if letters not in string.punctuation ]\n",
        "    review = ''.join(review)\n",
        "    return review\n",
        "\n",
        "df_merged['review'] = df_merged['review'].apply(punctuation)"
      ]
    },
    {
      "cell_type": "markdown",
      "source": [
        "**Remove stopwords from NLTK corpus** <br>\n",
        "Also remove some additional words manually since they are frequent but insignificant <br>"
      ],
      "metadata": {
        "id": "CbyugwWppjvl"
      }
    },
    {
      "cell_type": "code",
      "execution_count": 32,
      "metadata": {
        "id": "gkYA5IoZ2znt"
      },
      "outputs": [],
      "source": [
        "#removing stopwords\n",
        "new_list = ['br', 'br/', 'Ja', 'dtype', 'keep', 'object','B', 'Hollywood', 'Based', 'still', 'wants', 'ha', 'thing', 'th', 'video', 'would', 'get', 'see', 'get', 'know']\n",
        "new_stopwords = nltk.corpus.stopwords.words('english')\n",
        "new_stopwords.extend(new_list)\n",
        "\n",
        "def stopwords(sentence):\n",
        "    review = [words for words in sentence.split() if words not in new_stopwords]\n",
        "    review = ' '.join(review)\n",
        "    return review\n",
        "\n",
        "df_merged['review'] = df_merged['review'].apply(stopwords)"
      ]
    },
    {
      "cell_type": "code",
      "execution_count": 33,
      "metadata": {
        "colab": {
          "base_uri": "https://localhost:8080/",
          "height": 206
        },
        "id": "KNv6pxiaEwTh",
        "outputId": "b74f4e81-1091-4d27-a66d-83c20755d4ca"
      },
      "outputs": [
        {
          "output_type": "execute_result",
          "data": {
            "text/plain": [
              "      id  rating                                             review  sentiment\n",
              "0   5670       8  film sleeper rod steigers big name credits yet...          1\n",
              "1   2889      10  might consider spoiler id rather cautious care...          1\n",
              "2  11475       8  zero day purpose simply entertainment delivers...          1\n",
              "3    499       8  pilot enterprise one lacking since original st...          1\n",
              "4   1392       1  nowadays minority comedians feel okay slander ...          0"
            ],
            "text/html": [
              "\n",
              "  <div id=\"df-cfdc9bd1-151a-400d-a261-a910adba3a2b\">\n",
              "    <div class=\"colab-df-container\">\n",
              "      <div>\n",
              "<style scoped>\n",
              "    .dataframe tbody tr th:only-of-type {\n",
              "        vertical-align: middle;\n",
              "    }\n",
              "\n",
              "    .dataframe tbody tr th {\n",
              "        vertical-align: top;\n",
              "    }\n",
              "\n",
              "    .dataframe thead th {\n",
              "        text-align: right;\n",
              "    }\n",
              "</style>\n",
              "<table border=\"1\" class=\"dataframe\">\n",
              "  <thead>\n",
              "    <tr style=\"text-align: right;\">\n",
              "      <th></th>\n",
              "      <th>id</th>\n",
              "      <th>rating</th>\n",
              "      <th>review</th>\n",
              "      <th>sentiment</th>\n",
              "    </tr>\n",
              "  </thead>\n",
              "  <tbody>\n",
              "    <tr>\n",
              "      <th>0</th>\n",
              "      <td>5670</td>\n",
              "      <td>8</td>\n",
              "      <td>film sleeper rod steigers big name credits yet...</td>\n",
              "      <td>1</td>\n",
              "    </tr>\n",
              "    <tr>\n",
              "      <th>1</th>\n",
              "      <td>2889</td>\n",
              "      <td>10</td>\n",
              "      <td>might consider spoiler id rather cautious care...</td>\n",
              "      <td>1</td>\n",
              "    </tr>\n",
              "    <tr>\n",
              "      <th>2</th>\n",
              "      <td>11475</td>\n",
              "      <td>8</td>\n",
              "      <td>zero day purpose simply entertainment delivers...</td>\n",
              "      <td>1</td>\n",
              "    </tr>\n",
              "    <tr>\n",
              "      <th>3</th>\n",
              "      <td>499</td>\n",
              "      <td>8</td>\n",
              "      <td>pilot enterprise one lacking since original st...</td>\n",
              "      <td>1</td>\n",
              "    </tr>\n",
              "    <tr>\n",
              "      <th>4</th>\n",
              "      <td>1392</td>\n",
              "      <td>1</td>\n",
              "      <td>nowadays minority comedians feel okay slander ...</td>\n",
              "      <td>0</td>\n",
              "    </tr>\n",
              "  </tbody>\n",
              "</table>\n",
              "</div>\n",
              "      <button class=\"colab-df-convert\" onclick=\"convertToInteractive('df-cfdc9bd1-151a-400d-a261-a910adba3a2b')\"\n",
              "              title=\"Convert this dataframe to an interactive table.\"\n",
              "              style=\"display:none;\">\n",
              "        \n",
              "  <svg xmlns=\"http://www.w3.org/2000/svg\" height=\"24px\"viewBox=\"0 0 24 24\"\n",
              "       width=\"24px\">\n",
              "    <path d=\"M0 0h24v24H0V0z\" fill=\"none\"/>\n",
              "    <path d=\"M18.56 5.44l.94 2.06.94-2.06 2.06-.94-2.06-.94-.94-2.06-.94 2.06-2.06.94zm-11 1L8.5 8.5l.94-2.06 2.06-.94-2.06-.94L8.5 2.5l-.94 2.06-2.06.94zm10 10l.94 2.06.94-2.06 2.06-.94-2.06-.94-.94-2.06-.94 2.06-2.06.94z\"/><path d=\"M17.41 7.96l-1.37-1.37c-.4-.4-.92-.59-1.43-.59-.52 0-1.04.2-1.43.59L10.3 9.45l-7.72 7.72c-.78.78-.78 2.05 0 2.83L4 21.41c.39.39.9.59 1.41.59.51 0 1.02-.2 1.41-.59l7.78-7.78 2.81-2.81c.8-.78.8-2.07 0-2.86zM5.41 20L4 18.59l7.72-7.72 1.47 1.35L5.41 20z\"/>\n",
              "  </svg>\n",
              "      </button>\n",
              "      \n",
              "  <style>\n",
              "    .colab-df-container {\n",
              "      display:flex;\n",
              "      flex-wrap:wrap;\n",
              "      gap: 12px;\n",
              "    }\n",
              "\n",
              "    .colab-df-convert {\n",
              "      background-color: #E8F0FE;\n",
              "      border: none;\n",
              "      border-radius: 50%;\n",
              "      cursor: pointer;\n",
              "      display: none;\n",
              "      fill: #1967D2;\n",
              "      height: 32px;\n",
              "      padding: 0 0 0 0;\n",
              "      width: 32px;\n",
              "    }\n",
              "\n",
              "    .colab-df-convert:hover {\n",
              "      background-color: #E2EBFA;\n",
              "      box-shadow: 0px 1px 2px rgba(60, 64, 67, 0.3), 0px 1px 3px 1px rgba(60, 64, 67, 0.15);\n",
              "      fill: #174EA6;\n",
              "    }\n",
              "\n",
              "    [theme=dark] .colab-df-convert {\n",
              "      background-color: #3B4455;\n",
              "      fill: #D2E3FC;\n",
              "    }\n",
              "\n",
              "    [theme=dark] .colab-df-convert:hover {\n",
              "      background-color: #434B5C;\n",
              "      box-shadow: 0px 1px 3px 1px rgba(0, 0, 0, 0.15);\n",
              "      filter: drop-shadow(0px 1px 2px rgba(0, 0, 0, 0.3));\n",
              "      fill: #FFFFFF;\n",
              "    }\n",
              "  </style>\n",
              "\n",
              "      <script>\n",
              "        const buttonEl =\n",
              "          document.querySelector('#df-cfdc9bd1-151a-400d-a261-a910adba3a2b button.colab-df-convert');\n",
              "        buttonEl.style.display =\n",
              "          google.colab.kernel.accessAllowed ? 'block' : 'none';\n",
              "\n",
              "        async function convertToInteractive(key) {\n",
              "          const element = document.querySelector('#df-cfdc9bd1-151a-400d-a261-a910adba3a2b');\n",
              "          const dataTable =\n",
              "            await google.colab.kernel.invokeFunction('convertToInteractive',\n",
              "                                                     [key], {});\n",
              "          if (!dataTable) return;\n",
              "\n",
              "          const docLinkHtml = 'Like what you see? Visit the ' +\n",
              "            '<a target=\"_blank\" href=https://colab.research.google.com/notebooks/data_table.ipynb>data table notebook</a>'\n",
              "            + ' to learn more about interactive tables.';\n",
              "          element.innerHTML = '';\n",
              "          dataTable['output_type'] = 'display_data';\n",
              "          await google.colab.output.renderOutput(dataTable, element);\n",
              "          const docLink = document.createElement('div');\n",
              "          docLink.innerHTML = docLinkHtml;\n",
              "          element.appendChild(docLink);\n",
              "        }\n",
              "      </script>\n",
              "    </div>\n",
              "  </div>\n",
              "  "
            ]
          },
          "metadata": {},
          "execution_count": 33
        }
      ],
      "source": [
        "df_merged.head()"
      ]
    },
    {
      "cell_type": "code",
      "execution_count": 34,
      "metadata": {
        "colab": {
          "base_uri": "https://localhost:8080/"
        },
        "id": "HmqtgoQ8DrMI",
        "outputId": "0756b13e-2a5a-49a8-a4d1-a3d61ea967b2"
      },
      "outputs": [
        {
          "output_type": "stream",
          "name": "stderr",
          "text": [
            "[nltk_data] Downloading package omw-1.4 to /root/nltk_data...\n",
            "[nltk_data]   Package omw-1.4 is already up-to-date!\n"
          ]
        },
        {
          "output_type": "execute_result",
          "data": {
            "text/plain": [
              "True"
            ]
          },
          "metadata": {},
          "execution_count": 34
        },
        {
          "output_type": "stream",
          "name": "stderr",
          "text": [
            "[nltk_data] Downloading package wordnet to /root/nltk_data...\n",
            "[nltk_data]   Package wordnet is already up-to-date!\n"
          ]
        },
        {
          "output_type": "execute_result",
          "data": {
            "text/plain": [
              "True"
            ]
          },
          "metadata": {},
          "execution_count": 34
        }
      ],
      "source": [
        "import nltk\n",
        "nltk.download('omw-1.4')\n",
        "nltk.download('wordnet')"
      ]
    },
    {
      "cell_type": "markdown",
      "source": [
        "**Apply Lemmatization** <br>\n",
        "We tried this step but but for final training we used stemmed reviews only <br>"
      ],
      "metadata": {
        "id": "P1ZJ3CwSp8tD"
      }
    },
    {
      "cell_type": "code",
      "execution_count": 35,
      "metadata": {
        "colab": {
          "base_uri": "https://localhost:8080/",
          "height": 206
        },
        "id": "_VfoNVCTCHio",
        "outputId": "91594520-ef6c-4173-a45f-43881ef179ae"
      },
      "outputs": [
        {
          "output_type": "execute_result",
          "data": {
            "text/plain": [
              "      id  rating                                             review  \\\n",
              "0   5670       8  film sleeper rod steigers big name credits yet...   \n",
              "1   2889      10  might consider spoiler id rather cautious care...   \n",
              "2  11475       8  zero day purpose simply entertainment delivers...   \n",
              "3    499       8  pilot enterprise one lacking since original st...   \n",
              "4   1392       1  nowadays minority comedians feel okay slander ...   \n",
              "\n",
              "   sentiment                                  lemmatized_review  \n",
              "0          1  [film, sleeper, rod, steigers, big, name, cred...  \n",
              "1          1  [might, consider, spoiler, id, rather, cautiou...  \n",
              "2          1  [zero, day, purpose, simply, entertainment, de...  \n",
              "3          1  [pilot, enterprise, one, lacking, since, origi...  \n",
              "4          0  [nowadays, minority, comedian, feel, okay, sla...  "
            ],
            "text/html": [
              "\n",
              "  <div id=\"df-ff9e3e8e-9ad7-478b-a9d2-e6985093a9c6\">\n",
              "    <div class=\"colab-df-container\">\n",
              "      <div>\n",
              "<style scoped>\n",
              "    .dataframe tbody tr th:only-of-type {\n",
              "        vertical-align: middle;\n",
              "    }\n",
              "\n",
              "    .dataframe tbody tr th {\n",
              "        vertical-align: top;\n",
              "    }\n",
              "\n",
              "    .dataframe thead th {\n",
              "        text-align: right;\n",
              "    }\n",
              "</style>\n",
              "<table border=\"1\" class=\"dataframe\">\n",
              "  <thead>\n",
              "    <tr style=\"text-align: right;\">\n",
              "      <th></th>\n",
              "      <th>id</th>\n",
              "      <th>rating</th>\n",
              "      <th>review</th>\n",
              "      <th>sentiment</th>\n",
              "      <th>lemmatized_review</th>\n",
              "    </tr>\n",
              "  </thead>\n",
              "  <tbody>\n",
              "    <tr>\n",
              "      <th>0</th>\n",
              "      <td>5670</td>\n",
              "      <td>8</td>\n",
              "      <td>film sleeper rod steigers big name credits yet...</td>\n",
              "      <td>1</td>\n",
              "      <td>[film, sleeper, rod, steigers, big, name, cred...</td>\n",
              "    </tr>\n",
              "    <tr>\n",
              "      <th>1</th>\n",
              "      <td>2889</td>\n",
              "      <td>10</td>\n",
              "      <td>might consider spoiler id rather cautious care...</td>\n",
              "      <td>1</td>\n",
              "      <td>[might, consider, spoiler, id, rather, cautiou...</td>\n",
              "    </tr>\n",
              "    <tr>\n",
              "      <th>2</th>\n",
              "      <td>11475</td>\n",
              "      <td>8</td>\n",
              "      <td>zero day purpose simply entertainment delivers...</td>\n",
              "      <td>1</td>\n",
              "      <td>[zero, day, purpose, simply, entertainment, de...</td>\n",
              "    </tr>\n",
              "    <tr>\n",
              "      <th>3</th>\n",
              "      <td>499</td>\n",
              "      <td>8</td>\n",
              "      <td>pilot enterprise one lacking since original st...</td>\n",
              "      <td>1</td>\n",
              "      <td>[pilot, enterprise, one, lacking, since, origi...</td>\n",
              "    </tr>\n",
              "    <tr>\n",
              "      <th>4</th>\n",
              "      <td>1392</td>\n",
              "      <td>1</td>\n",
              "      <td>nowadays minority comedians feel okay slander ...</td>\n",
              "      <td>0</td>\n",
              "      <td>[nowadays, minority, comedian, feel, okay, sla...</td>\n",
              "    </tr>\n",
              "  </tbody>\n",
              "</table>\n",
              "</div>\n",
              "      <button class=\"colab-df-convert\" onclick=\"convertToInteractive('df-ff9e3e8e-9ad7-478b-a9d2-e6985093a9c6')\"\n",
              "              title=\"Convert this dataframe to an interactive table.\"\n",
              "              style=\"display:none;\">\n",
              "        \n",
              "  <svg xmlns=\"http://www.w3.org/2000/svg\" height=\"24px\"viewBox=\"0 0 24 24\"\n",
              "       width=\"24px\">\n",
              "    <path d=\"M0 0h24v24H0V0z\" fill=\"none\"/>\n",
              "    <path d=\"M18.56 5.44l.94 2.06.94-2.06 2.06-.94-2.06-.94-.94-2.06-.94 2.06-2.06.94zm-11 1L8.5 8.5l.94-2.06 2.06-.94-2.06-.94L8.5 2.5l-.94 2.06-2.06.94zm10 10l.94 2.06.94-2.06 2.06-.94-2.06-.94-.94-2.06-.94 2.06-2.06.94z\"/><path d=\"M17.41 7.96l-1.37-1.37c-.4-.4-.92-.59-1.43-.59-.52 0-1.04.2-1.43.59L10.3 9.45l-7.72 7.72c-.78.78-.78 2.05 0 2.83L4 21.41c.39.39.9.59 1.41.59.51 0 1.02-.2 1.41-.59l7.78-7.78 2.81-2.81c.8-.78.8-2.07 0-2.86zM5.41 20L4 18.59l7.72-7.72 1.47 1.35L5.41 20z\"/>\n",
              "  </svg>\n",
              "      </button>\n",
              "      \n",
              "  <style>\n",
              "    .colab-df-container {\n",
              "      display:flex;\n",
              "      flex-wrap:wrap;\n",
              "      gap: 12px;\n",
              "    }\n",
              "\n",
              "    .colab-df-convert {\n",
              "      background-color: #E8F0FE;\n",
              "      border: none;\n",
              "      border-radius: 50%;\n",
              "      cursor: pointer;\n",
              "      display: none;\n",
              "      fill: #1967D2;\n",
              "      height: 32px;\n",
              "      padding: 0 0 0 0;\n",
              "      width: 32px;\n",
              "    }\n",
              "\n",
              "    .colab-df-convert:hover {\n",
              "      background-color: #E2EBFA;\n",
              "      box-shadow: 0px 1px 2px rgba(60, 64, 67, 0.3), 0px 1px 3px 1px rgba(60, 64, 67, 0.15);\n",
              "      fill: #174EA6;\n",
              "    }\n",
              "\n",
              "    [theme=dark] .colab-df-convert {\n",
              "      background-color: #3B4455;\n",
              "      fill: #D2E3FC;\n",
              "    }\n",
              "\n",
              "    [theme=dark] .colab-df-convert:hover {\n",
              "      background-color: #434B5C;\n",
              "      box-shadow: 0px 1px 3px 1px rgba(0, 0, 0, 0.15);\n",
              "      filter: drop-shadow(0px 1px 2px rgba(0, 0, 0, 0.3));\n",
              "      fill: #FFFFFF;\n",
              "    }\n",
              "  </style>\n",
              "\n",
              "      <script>\n",
              "        const buttonEl =\n",
              "          document.querySelector('#df-ff9e3e8e-9ad7-478b-a9d2-e6985093a9c6 button.colab-df-convert');\n",
              "        buttonEl.style.display =\n",
              "          google.colab.kernel.accessAllowed ? 'block' : 'none';\n",
              "\n",
              "        async function convertToInteractive(key) {\n",
              "          const element = document.querySelector('#df-ff9e3e8e-9ad7-478b-a9d2-e6985093a9c6');\n",
              "          const dataTable =\n",
              "            await google.colab.kernel.invokeFunction('convertToInteractive',\n",
              "                                                     [key], {});\n",
              "          if (!dataTable) return;\n",
              "\n",
              "          const docLinkHtml = 'Like what you see? Visit the ' +\n",
              "            '<a target=\"_blank\" href=https://colab.research.google.com/notebooks/data_table.ipynb>data table notebook</a>'\n",
              "            + ' to learn more about interactive tables.';\n",
              "          element.innerHTML = '';\n",
              "          dataTable['output_type'] = 'display_data';\n",
              "          await google.colab.output.renderOutput(dataTable, element);\n",
              "          const docLink = document.createElement('div');\n",
              "          docLink.innerHTML = docLinkHtml;\n",
              "          element.appendChild(docLink);\n",
              "        }\n",
              "      </script>\n",
              "    </div>\n",
              "  </div>\n",
              "  "
            ]
          },
          "metadata": {},
          "execution_count": 35
        }
      ],
      "source": [
        "w_tokenizer = nltk.tokenize.WhitespaceTokenizer()\n",
        "lemmatizer = nltk.stem.WordNetLemmatizer()\n",
        "\n",
        "def lemmatize_text(text):\n",
        "  return [lemmatizer.lemmatize(w) for w in w_tokenizer.tokenize(text)]\n",
        "\n",
        "df_merged['lemmatized_review'] = df_merged.review.apply(lemmatize_text)\n",
        "df_merged.head()"
      ]
    },
    {
      "cell_type": "markdown",
      "source": [
        "**Apply Stemming using Porter Stemmer**"
      ],
      "metadata": {
        "id": "5j8tMm3zqRye"
      }
    },
    {
      "cell_type": "code",
      "execution_count": 36,
      "metadata": {
        "colab": {
          "base_uri": "https://localhost:8080/",
          "height": 206
        },
        "id": "P4qbsaI23Q-S",
        "outputId": "ab726b06-fbdf-4041-b2d1-a841bde6c87d"
      },
      "outputs": [
        {
          "output_type": "execute_result",
          "data": {
            "text/plain": [
              "      id  rating                                             review  \\\n",
              "0   5670       8  film sleeper rod steigers big name credits yet...   \n",
              "1   2889      10  might consider spoiler id rather cautious care...   \n",
              "2  11475       8  zero day purpose simply entertainment delivers...   \n",
              "3    499       8  pilot enterprise one lacking since original st...   \n",
              "4   1392       1  nowadays minority comedians feel okay slander ...   \n",
              "\n",
              "   sentiment                                  lemmatized_review  \n",
              "0          1  [film, sleeper, rod, steigers, big, name, cred...  \n",
              "1          1  [might, consider, spoiler, id, rather, cautiou...  \n",
              "2          1  [zero, day, purpose, simply, entertainment, de...  \n",
              "3          1  [pilot, enterprise, one, lacking, since, origi...  \n",
              "4          0  [nowadays, minority, comedian, feel, okay, sla...  "
            ],
            "text/html": [
              "\n",
              "  <div id=\"df-ec067fb8-3fca-4845-8f93-dda44fe3261b\">\n",
              "    <div class=\"colab-df-container\">\n",
              "      <div>\n",
              "<style scoped>\n",
              "    .dataframe tbody tr th:only-of-type {\n",
              "        vertical-align: middle;\n",
              "    }\n",
              "\n",
              "    .dataframe tbody tr th {\n",
              "        vertical-align: top;\n",
              "    }\n",
              "\n",
              "    .dataframe thead th {\n",
              "        text-align: right;\n",
              "    }\n",
              "</style>\n",
              "<table border=\"1\" class=\"dataframe\">\n",
              "  <thead>\n",
              "    <tr style=\"text-align: right;\">\n",
              "      <th></th>\n",
              "      <th>id</th>\n",
              "      <th>rating</th>\n",
              "      <th>review</th>\n",
              "      <th>sentiment</th>\n",
              "      <th>lemmatized_review</th>\n",
              "    </tr>\n",
              "  </thead>\n",
              "  <tbody>\n",
              "    <tr>\n",
              "      <th>0</th>\n",
              "      <td>5670</td>\n",
              "      <td>8</td>\n",
              "      <td>film sleeper rod steigers big name credits yet...</td>\n",
              "      <td>1</td>\n",
              "      <td>[film, sleeper, rod, steigers, big, name, cred...</td>\n",
              "    </tr>\n",
              "    <tr>\n",
              "      <th>1</th>\n",
              "      <td>2889</td>\n",
              "      <td>10</td>\n",
              "      <td>might consider spoiler id rather cautious care...</td>\n",
              "      <td>1</td>\n",
              "      <td>[might, consider, spoiler, id, rather, cautiou...</td>\n",
              "    </tr>\n",
              "    <tr>\n",
              "      <th>2</th>\n",
              "      <td>11475</td>\n",
              "      <td>8</td>\n",
              "      <td>zero day purpose simply entertainment delivers...</td>\n",
              "      <td>1</td>\n",
              "      <td>[zero, day, purpose, simply, entertainment, de...</td>\n",
              "    </tr>\n",
              "    <tr>\n",
              "      <th>3</th>\n",
              "      <td>499</td>\n",
              "      <td>8</td>\n",
              "      <td>pilot enterprise one lacking since original st...</td>\n",
              "      <td>1</td>\n",
              "      <td>[pilot, enterprise, one, lacking, since, origi...</td>\n",
              "    </tr>\n",
              "    <tr>\n",
              "      <th>4</th>\n",
              "      <td>1392</td>\n",
              "      <td>1</td>\n",
              "      <td>nowadays minority comedians feel okay slander ...</td>\n",
              "      <td>0</td>\n",
              "      <td>[nowadays, minority, comedian, feel, okay, sla...</td>\n",
              "    </tr>\n",
              "  </tbody>\n",
              "</table>\n",
              "</div>\n",
              "      <button class=\"colab-df-convert\" onclick=\"convertToInteractive('df-ec067fb8-3fca-4845-8f93-dda44fe3261b')\"\n",
              "              title=\"Convert this dataframe to an interactive table.\"\n",
              "              style=\"display:none;\">\n",
              "        \n",
              "  <svg xmlns=\"http://www.w3.org/2000/svg\" height=\"24px\"viewBox=\"0 0 24 24\"\n",
              "       width=\"24px\">\n",
              "    <path d=\"M0 0h24v24H0V0z\" fill=\"none\"/>\n",
              "    <path d=\"M18.56 5.44l.94 2.06.94-2.06 2.06-.94-2.06-.94-.94-2.06-.94 2.06-2.06.94zm-11 1L8.5 8.5l.94-2.06 2.06-.94-2.06-.94L8.5 2.5l-.94 2.06-2.06.94zm10 10l.94 2.06.94-2.06 2.06-.94-2.06-.94-.94-2.06-.94 2.06-2.06.94z\"/><path d=\"M17.41 7.96l-1.37-1.37c-.4-.4-.92-.59-1.43-.59-.52 0-1.04.2-1.43.59L10.3 9.45l-7.72 7.72c-.78.78-.78 2.05 0 2.83L4 21.41c.39.39.9.59 1.41.59.51 0 1.02-.2 1.41-.59l7.78-7.78 2.81-2.81c.8-.78.8-2.07 0-2.86zM5.41 20L4 18.59l7.72-7.72 1.47 1.35L5.41 20z\"/>\n",
              "  </svg>\n",
              "      </button>\n",
              "      \n",
              "  <style>\n",
              "    .colab-df-container {\n",
              "      display:flex;\n",
              "      flex-wrap:wrap;\n",
              "      gap: 12px;\n",
              "    }\n",
              "\n",
              "    .colab-df-convert {\n",
              "      background-color: #E8F0FE;\n",
              "      border: none;\n",
              "      border-radius: 50%;\n",
              "      cursor: pointer;\n",
              "      display: none;\n",
              "      fill: #1967D2;\n",
              "      height: 32px;\n",
              "      padding: 0 0 0 0;\n",
              "      width: 32px;\n",
              "    }\n",
              "\n",
              "    .colab-df-convert:hover {\n",
              "      background-color: #E2EBFA;\n",
              "      box-shadow: 0px 1px 2px rgba(60, 64, 67, 0.3), 0px 1px 3px 1px rgba(60, 64, 67, 0.15);\n",
              "      fill: #174EA6;\n",
              "    }\n",
              "\n",
              "    [theme=dark] .colab-df-convert {\n",
              "      background-color: #3B4455;\n",
              "      fill: #D2E3FC;\n",
              "    }\n",
              "\n",
              "    [theme=dark] .colab-df-convert:hover {\n",
              "      background-color: #434B5C;\n",
              "      box-shadow: 0px 1px 3px 1px rgba(0, 0, 0, 0.15);\n",
              "      filter: drop-shadow(0px 1px 2px rgba(0, 0, 0, 0.3));\n",
              "      fill: #FFFFFF;\n",
              "    }\n",
              "  </style>\n",
              "\n",
              "      <script>\n",
              "        const buttonEl =\n",
              "          document.querySelector('#df-ec067fb8-3fca-4845-8f93-dda44fe3261b button.colab-df-convert');\n",
              "        buttonEl.style.display =\n",
              "          google.colab.kernel.accessAllowed ? 'block' : 'none';\n",
              "\n",
              "        async function convertToInteractive(key) {\n",
              "          const element = document.querySelector('#df-ec067fb8-3fca-4845-8f93-dda44fe3261b');\n",
              "          const dataTable =\n",
              "            await google.colab.kernel.invokeFunction('convertToInteractive',\n",
              "                                                     [key], {});\n",
              "          if (!dataTable) return;\n",
              "\n",
              "          const docLinkHtml = 'Like what you see? Visit the ' +\n",
              "            '<a target=\"_blank\" href=https://colab.research.google.com/notebooks/data_table.ipynb>data table notebook</a>'\n",
              "            + ' to learn more about interactive tables.';\n",
              "          element.innerHTML = '';\n",
              "          dataTable['output_type'] = 'display_data';\n",
              "          await google.colab.output.renderOutput(dataTable, element);\n",
              "          const docLink = document.createElement('div');\n",
              "          docLink.innerHTML = docLinkHtml;\n",
              "          element.appendChild(docLink);\n",
              "        }\n",
              "      </script>\n",
              "    </div>\n",
              "  </div>\n",
              "  "
            ]
          },
          "metadata": {},
          "execution_count": 36
        }
      ],
      "source": [
        "#stemming\n",
        "ps = PorterStemmer() \n",
        "df_merged['review'] = df_merged['review'].apply(ps.stem)\n",
        "df_merged.head()"
      ]
    },
    {
      "cell_type": "markdown",
      "source": [
        "**TF-IDF vectorization for feature extraction**"
      ],
      "metadata": {
        "id": "C_RVRL9ms_T-"
      }
    },
    {
      "cell_type": "code",
      "execution_count": 51,
      "metadata": {
        "colab": {
          "base_uri": "https://localhost:8080/",
          "height": 206
        },
        "id": "aKz_3I5uAYsE",
        "outputId": "9a26fdf3-0460-44d1-af17-4a809e6b0e2a"
      },
      "outputs": [
        {
          "output_type": "execute_result",
          "data": {
            "text/plain": [
              "      id  rating                                             review  \\\n",
              "0   5670       8  film sleeper rod steigers big name credits yet...   \n",
              "1   2889      10  might consider spoiler id rather cautious care...   \n",
              "2  11475       8  zero day purpose simply entertainment delivers...   \n",
              "3    499       8  pilot enterprise one lacking since original st...   \n",
              "4   1392       1  nowadays minority comedians feel okay slander ...   \n",
              "\n",
              "   sentiment                                  lemmatized_review  \n",
              "0          1  [film, sleeper, rod, steigers, big, name, cred...  \n",
              "1          1  [might, consider, spoiler, id, rather, cautiou...  \n",
              "2          1  [zero, day, purpose, simply, entertainment, de...  \n",
              "3          1  [pilot, enterprise, one, lacking, since, origi...  \n",
              "4          0  [nowadays, minority, comedian, feel, okay, sla...  "
            ],
            "text/html": [
              "\n",
              "  <div id=\"df-844ebaf4-357f-4cca-bcfe-6fe4c0fc5813\">\n",
              "    <div class=\"colab-df-container\">\n",
              "      <div>\n",
              "<style scoped>\n",
              "    .dataframe tbody tr th:only-of-type {\n",
              "        vertical-align: middle;\n",
              "    }\n",
              "\n",
              "    .dataframe tbody tr th {\n",
              "        vertical-align: top;\n",
              "    }\n",
              "\n",
              "    .dataframe thead th {\n",
              "        text-align: right;\n",
              "    }\n",
              "</style>\n",
              "<table border=\"1\" class=\"dataframe\">\n",
              "  <thead>\n",
              "    <tr style=\"text-align: right;\">\n",
              "      <th></th>\n",
              "      <th>id</th>\n",
              "      <th>rating</th>\n",
              "      <th>review</th>\n",
              "      <th>sentiment</th>\n",
              "      <th>lemmatized_review</th>\n",
              "    </tr>\n",
              "  </thead>\n",
              "  <tbody>\n",
              "    <tr>\n",
              "      <th>0</th>\n",
              "      <td>5670</td>\n",
              "      <td>8</td>\n",
              "      <td>film sleeper rod steigers big name credits yet...</td>\n",
              "      <td>1</td>\n",
              "      <td>[film, sleeper, rod, steigers, big, name, cred...</td>\n",
              "    </tr>\n",
              "    <tr>\n",
              "      <th>1</th>\n",
              "      <td>2889</td>\n",
              "      <td>10</td>\n",
              "      <td>might consider spoiler id rather cautious care...</td>\n",
              "      <td>1</td>\n",
              "      <td>[might, consider, spoiler, id, rather, cautiou...</td>\n",
              "    </tr>\n",
              "    <tr>\n",
              "      <th>2</th>\n",
              "      <td>11475</td>\n",
              "      <td>8</td>\n",
              "      <td>zero day purpose simply entertainment delivers...</td>\n",
              "      <td>1</td>\n",
              "      <td>[zero, day, purpose, simply, entertainment, de...</td>\n",
              "    </tr>\n",
              "    <tr>\n",
              "      <th>3</th>\n",
              "      <td>499</td>\n",
              "      <td>8</td>\n",
              "      <td>pilot enterprise one lacking since original st...</td>\n",
              "      <td>1</td>\n",
              "      <td>[pilot, enterprise, one, lacking, since, origi...</td>\n",
              "    </tr>\n",
              "    <tr>\n",
              "      <th>4</th>\n",
              "      <td>1392</td>\n",
              "      <td>1</td>\n",
              "      <td>nowadays minority comedians feel okay slander ...</td>\n",
              "      <td>0</td>\n",
              "      <td>[nowadays, minority, comedian, feel, okay, sla...</td>\n",
              "    </tr>\n",
              "  </tbody>\n",
              "</table>\n",
              "</div>\n",
              "      <button class=\"colab-df-convert\" onclick=\"convertToInteractive('df-844ebaf4-357f-4cca-bcfe-6fe4c0fc5813')\"\n",
              "              title=\"Convert this dataframe to an interactive table.\"\n",
              "              style=\"display:none;\">\n",
              "        \n",
              "  <svg xmlns=\"http://www.w3.org/2000/svg\" height=\"24px\"viewBox=\"0 0 24 24\"\n",
              "       width=\"24px\">\n",
              "    <path d=\"M0 0h24v24H0V0z\" fill=\"none\"/>\n",
              "    <path d=\"M18.56 5.44l.94 2.06.94-2.06 2.06-.94-2.06-.94-.94-2.06-.94 2.06-2.06.94zm-11 1L8.5 8.5l.94-2.06 2.06-.94-2.06-.94L8.5 2.5l-.94 2.06-2.06.94zm10 10l.94 2.06.94-2.06 2.06-.94-2.06-.94-.94-2.06-.94 2.06-2.06.94z\"/><path d=\"M17.41 7.96l-1.37-1.37c-.4-.4-.92-.59-1.43-.59-.52 0-1.04.2-1.43.59L10.3 9.45l-7.72 7.72c-.78.78-.78 2.05 0 2.83L4 21.41c.39.39.9.59 1.41.59.51 0 1.02-.2 1.41-.59l7.78-7.78 2.81-2.81c.8-.78.8-2.07 0-2.86zM5.41 20L4 18.59l7.72-7.72 1.47 1.35L5.41 20z\"/>\n",
              "  </svg>\n",
              "      </button>\n",
              "      \n",
              "  <style>\n",
              "    .colab-df-container {\n",
              "      display:flex;\n",
              "      flex-wrap:wrap;\n",
              "      gap: 12px;\n",
              "    }\n",
              "\n",
              "    .colab-df-convert {\n",
              "      background-color: #E8F0FE;\n",
              "      border: none;\n",
              "      border-radius: 50%;\n",
              "      cursor: pointer;\n",
              "      display: none;\n",
              "      fill: #1967D2;\n",
              "      height: 32px;\n",
              "      padding: 0 0 0 0;\n",
              "      width: 32px;\n",
              "    }\n",
              "\n",
              "    .colab-df-convert:hover {\n",
              "      background-color: #E2EBFA;\n",
              "      box-shadow: 0px 1px 2px rgba(60, 64, 67, 0.3), 0px 1px 3px 1px rgba(60, 64, 67, 0.15);\n",
              "      fill: #174EA6;\n",
              "    }\n",
              "\n",
              "    [theme=dark] .colab-df-convert {\n",
              "      background-color: #3B4455;\n",
              "      fill: #D2E3FC;\n",
              "    }\n",
              "\n",
              "    [theme=dark] .colab-df-convert:hover {\n",
              "      background-color: #434B5C;\n",
              "      box-shadow: 0px 1px 3px 1px rgba(0, 0, 0, 0.15);\n",
              "      filter: drop-shadow(0px 1px 2px rgba(0, 0, 0, 0.3));\n",
              "      fill: #FFFFFF;\n",
              "    }\n",
              "  </style>\n",
              "\n",
              "      <script>\n",
              "        const buttonEl =\n",
              "          document.querySelector('#df-844ebaf4-357f-4cca-bcfe-6fe4c0fc5813 button.colab-df-convert');\n",
              "        buttonEl.style.display =\n",
              "          google.colab.kernel.accessAllowed ? 'block' : 'none';\n",
              "\n",
              "        async function convertToInteractive(key) {\n",
              "          const element = document.querySelector('#df-844ebaf4-357f-4cca-bcfe-6fe4c0fc5813');\n",
              "          const dataTable =\n",
              "            await google.colab.kernel.invokeFunction('convertToInteractive',\n",
              "                                                     [key], {});\n",
              "          if (!dataTable) return;\n",
              "\n",
              "          const docLinkHtml = 'Like what you see? Visit the ' +\n",
              "            '<a target=\"_blank\" href=https://colab.research.google.com/notebooks/data_table.ipynb>data table notebook</a>'\n",
              "            + ' to learn more about interactive tables.';\n",
              "          element.innerHTML = '';\n",
              "          dataTable['output_type'] = 'display_data';\n",
              "          await google.colab.output.renderOutput(dataTable, element);\n",
              "          const docLink = document.createElement('div');\n",
              "          docLink.innerHTML = docLinkHtml;\n",
              "          element.appendChild(docLink);\n",
              "        }\n",
              "      </script>\n",
              "    </div>\n",
              "  </div>\n",
              "  "
            ]
          },
          "metadata": {},
          "execution_count": 51
        }
      ],
      "source": [
        "#tf-Idf vectorizer\n",
        "from sklearn.feature_extraction.text import TfidfVectorizer \n",
        "vectorizer = TfidfVectorizer() \n",
        "X = vectorizer.fit_transform(df_merged['review']) \n",
        "y =  df_merged['sentiment']\n",
        "df_merged.head()"
      ]
    },
    {
      "cell_type": "markdown",
      "source": [
        "TF-IDF vectorization seem to have created 182431 features from reviews"
      ],
      "metadata": {
        "id": "WqTB8368tnDW"
      }
    },
    {
      "cell_type": "markdown",
      "source": [
        "**Exploratory Data Analysis**"
      ],
      "metadata": {
        "id": "Rn8NPOMFEAWe"
      }
    },
    {
      "cell_type": "code",
      "execution_count": null,
      "metadata": {
        "id": "I13W8k5LW5AT"
      },
      "outputs": [],
      "source": [
        "# tokenized reviews - input\n",
        "# sentiment - output\n",
        "X = df_merged['review']\n",
        "y = df_merged['sentiment']"
      ]
    },
    {
      "cell_type": "code",
      "execution_count": 39,
      "metadata": {
        "colab": {
          "base_uri": "https://localhost:8080/"
        },
        "id": "FJv_c0xZNr-9",
        "outputId": "a8b85a02-aa04-458d-8eda-1453ac671d78"
      },
      "outputs": [
        {
          "output_type": "stream",
          "name": "stdout",
          "text": [
            "Classes: \n",
            "[0 1]\n"
          ]
        }
      ],
      "source": [
        "# Find number of classes\n",
        "print(\"Classes: \")\n",
        "print(np.unique(y))\n",
        "#This confirms that we don not have any neutral reviews, we only have positives and negatives"
      ]
    },
    {
      "cell_type": "code",
      "execution_count": 40,
      "metadata": {
        "colab": {
          "base_uri": "https://localhost:8080/"
        },
        "id": "XLzSgHkdPCTD",
        "outputId": "64ae2123-db6d-4ee1-cfab-3486d5b9fa17"
      },
      "outputs": [
        {
          "output_type": "stream",
          "name": "stdout",
          "text": [
            "Number of words: \n",
            "49578\n"
          ]
        }
      ],
      "source": [
        "# Find number of unique words in overall input data\n",
        "print(\"Number of words: \")\n",
        "print(len(np.unique(np.hstack(X))))"
      ]
    },
    {
      "cell_type": "markdown",
      "source": [
        "Even though we have 50k unique files, we only have less than 50k unique words in those files <br>"
      ],
      "metadata": {
        "id": "xx3fJu1UrM4K"
      }
    },
    {
      "cell_type": "code",
      "execution_count": 41,
      "metadata": {
        "colab": {
          "base_uri": "https://localhost:8080/",
          "height": 447
        },
        "id": "jmmp9PDgPCYK",
        "outputId": "1680a3c0-e596-4831-8bb5-5ed7b814d3a1"
      },
      "outputs": [
        {
          "output_type": "stream",
          "name": "stdout",
          "text": [
            "Review length: \n",
            "Mean 828.04 words (641.903520)\n"
          ]
        },
        {
          "output_type": "execute_result",
          "data": {
            "text/plain": [
              "{'whiskers': [<matplotlib.lines.Line2D at 0x7f870e288070>,\n",
              "  <matplotlib.lines.Line2D at 0x7f870df3f760>],\n",
              " 'caps': [<matplotlib.lines.Line2D at 0x7f870df3fc10>,\n",
              "  <matplotlib.lines.Line2D at 0x7f870df3f8e0>],\n",
              " 'boxes': [<matplotlib.lines.Line2D at 0x7f870e288f10>],\n",
              " 'medians': [<matplotlib.lines.Line2D at 0x7f870df3f700>],\n",
              " 'fliers': [<matplotlib.lines.Line2D at 0x7f870e065250>],\n",
              " 'means': []}"
            ]
          },
          "metadata": {},
          "execution_count": 41
        },
        {
          "output_type": "display_data",
          "data": {
            "text/plain": [
              "<Figure size 432x288 with 1 Axes>"
            ],
            "image/png": "[encoded data removed]"
          },
          "metadata": {}
        }
      ],
      "source": [
        "# Find avergae review length\n",
        "print(\"Review length: \")\n",
        "result = [len(x) for x in X]\n",
        "print(\"Mean %.2f words (%f)\" % (np.mean(result), np.std(result)))\n",
        "\n",
        "# boxplot for review length\n",
        "plt.boxplot(result)\n",
        "plt.show()"
      ]
    },
    {
      "cell_type": "markdown",
      "metadata": {
        "id": "n9bj-YO1Qmvo"
      },
      "source": [
        "**Average review length = 828 words**"
      ]
    },
    {
      "cell_type": "markdown",
      "source": [
        "**Draw a word cloud to see the most frequently appeared keywords**"
      ],
      "metadata": {
        "id": "Rduw2kBcrbVF"
      }
    },
    {
      "cell_type": "code",
      "execution_count": 42,
      "metadata": {
        "colab": {
          "base_uri": "https://localhost:8080/",
          "height": 366
        },
        "id": "Zn3t4nJwJ04w",
        "outputId": "9ea16151-9a4d-4496-9d19-b3830b7ea9fa"
      },
      "outputs": [
        {
          "output_type": "display_data",
          "data": {
            "text/plain": [
              "<Figure size 864x864 with 1 Axes>"
            ],
            "image/png": "[encoded data removed]"
          },
          "metadata": {}
        }
      ],
      "source": [
        "# creating a word-cloud\n",
        "from wordcloud import WordCloud, STOPWORDS\n",
        "stopwords = set(STOPWORDS)\n",
        "\n",
        "def show_wordcloud(data, title=None):\n",
        "    wordcloud = WordCloud(\n",
        "        background_color=\"black\",\n",
        "        stopwords=stopwords,\n",
        "        max_words=300,\n",
        "        max_font_size=45,\n",
        "        scale=4,\n",
        "        random_state=1,\n",
        "    ).generate(str(data))\n",
        "\n",
        "    fig = plt.figure(1, figsize=(12, 12))\n",
        "    plt.axis(\"off\")\n",
        "    if title:\n",
        "        fig.suptitle(title, fontsize=21)\n",
        "        fig.subplots_adjust(top=2.1)\n",
        "\n",
        "    plt.imshow(wordcloud)\n",
        "    plt.show()\n",
        "\n",
        "\n",
        "show_wordcloud(df_train_merged[\"review\"])"
      ]
    },
    {
      "cell_type": "markdown",
      "source": [
        "Some words from the figure above don't give us much information about users' feelings. We can add those words to a list of stopwords and draw an updated word cloud. <br>"
      ],
      "metadata": {
        "id": "CEo9xGQXrrlt"
      }
    },
    {
      "cell_type": "code",
      "execution_count": 43,
      "metadata": {
        "id": "ut36DItPdatc"
      },
      "outputs": [],
      "source": [
        "to_remove = set(['Ja', 'dtype', 'keep', 'object','B', 'Hollywood', 'Based', 'still', 'wants', 'ha', 'thing', 'th', 'video', 'would', 'get', 'see', 'get', 'know'])\n",
        "stopwords.update(to_remove)"
      ]
    },
    {
      "cell_type": "code",
      "execution_count": 44,
      "metadata": {
        "colab": {
          "base_uri": "https://localhost:8080/",
          "height": 366
        },
        "id": "WniV8Rs1eLeJ",
        "outputId": "a14e7cd7-a665-4adb-c6c3-5d8168c1ff3b"
      },
      "outputs": [
        {
          "output_type": "display_data",
          "data": {
            "text/plain": [
              "<Figure size 864x864 with 1 Axes>"
            ],
            "image/png": "[encoded data removed]"
          },
          "metadata": {}
        }
      ],
      "source": [
        "def show_wordcloud(data, title=None):\n",
        "    wordcloud = WordCloud(\n",
        "        background_color=\"black\",\n",
        "        stopwords=stopwords,\n",
        "        max_words=300,\n",
        "        max_font_size=45,\n",
        "        scale=4,\n",
        "        random_state=1,\n",
        "    ).generate(str(data))\n",
        "\n",
        "    fig = plt.figure(1, figsize=(12, 12))\n",
        "    plt.axis(\"off\")\n",
        "    if title:\n",
        "        fig.suptitle(title, fontsize=21)\n",
        "        fig.subplots_adjust(top=2.1)\n",
        "\n",
        "    plt.imshow(wordcloud)\n",
        "    plt.show()\n",
        "\n",
        "\n",
        "show_wordcloud(df_train_merged[\"review\"])"
      ]
    },
    {
      "cell_type": "markdown",
      "source": [
        "**N-Gram Analysis to see which words appear together frequently**"
      ],
      "metadata": {
        "id": "jklUY95yd9Hi"
      }
    },
    {
      "cell_type": "code",
      "source": [
        "# Join all the reviews as one string\n",
        "texts = ' '.join(df_merged['review'])"
      ],
      "metadata": {
        "id": "tlUgpMxEd6QQ"
      },
      "execution_count": 45,
      "outputs": []
    },
    {
      "cell_type": "code",
      "source": [
        "string = texts.split(\" \")\n",
        "print(string)"
      ],
      "metadata": {
        "colab": {
          "base_uri": "https://localhost:8080/"
        },
        "id": "4n_odyVdeERp",
        "outputId": "4a362779-2b62-4b55-e4c1-faa410e25500"
      },
      "execution_count": 46,
      "outputs": [
        {
          "output_type": "stream",
          "name": "stderr",
          "text": [
            "IOPub data rate exceeded.\n",
            "The notebook server will temporarily stop sending output\n",
            "to the client in order to avoid crashing it.\n",
            "To change this limit, set the config variable\n",
            "`--NotebookApp.iopub_data_rate_limit`.\n",
            "\n",
            "Current values:\n",
            "NotebookApp.iopub_data_rate_limit=1000000.0 (bytes/sec)\n",
            "NotebookApp.rate_limit_window=3.0 (secs)\n",
            "\n"
          ]
        }
      ]
    },
    {
      "cell_type": "markdown",
      "source": [
        "**Define a function to create and draw an N-gram from NLTK N-grams** <br>\n",
        "Reference: https://github.com/072arushi/Movie_review_analysis/blob/main/my_project%20(1).ipynb\n"
      ],
      "metadata": {
        "id": "PpIaB7_TsklO"
      }
    },
    {
      "cell_type": "code",
      "source": [
        "def draw_n_gram(string,i):\n",
        "    n_gram = (pd.Series(nltk.ngrams(string, i)).value_counts())[:15]\n",
        "    n_gram_df=pd.DataFrame(n_gram)\n",
        "    n_gram_df = n_gram_df.reset_index()\n",
        "    n_gram_df = n_gram_df.rename(columns={\"index\": \"word\", 0: \"count\"})\n",
        "    print(n_gram_df.head())\n",
        "    plt.figure(figsize = (8,5))\n",
        "    return sns.barplot(x='count',y='word', data=n_gram_df,color ='darkcyan', )"
      ],
      "metadata": {
        "id": "_9KIrrSefCdZ"
      },
      "execution_count": 47,
      "outputs": []
    },
    {
      "cell_type": "code",
      "source": [
        "#Unigram\n",
        "draw_n_gram(string,1)"
      ],
      "metadata": {
        "colab": {
          "base_uri": "https://localhost:8080/",
          "height": 464
        },
        "id": "-C224ReqfFDC",
        "outputId": "d6260df1-e993-4373-a598-78712d02c8e1"
      },
      "execution_count": 48,
      "outputs": [
        {
          "output_type": "stream",
          "name": "stdout",
          "text": [
            "       word  count\n",
            "0  (movie,)  81997\n",
            "1   (film,)  74644\n",
            "2    (one,)  50355\n",
            "3   (like,)  38756\n",
            "4   (good,)  28574\n"
          ]
        },
        {
          "output_type": "execute_result",
          "data": {
            "text/plain": [
              "<matplotlib.axes._subplots.AxesSubplot at 0x7f86c96232b0>"
            ]
          },
          "metadata": {},
          "execution_count": 48
        },
        {
          "output_type": "display_data",
          "data": {
            "text/plain": [
              "<Figure size 576x360 with 1 Axes>"
            ],
            "image/png": "[encoded data removed]"
          },
          "metadata": {}
        }
      ]
    },
    {
      "cell_type": "code",
      "source": [
        "#Bigram\n",
        "draw_n_gram(string,2)"
      ],
      "metadata": {
        "colab": {
          "base_uri": "https://localhost:8080/",
          "height": 464
        },
        "id": "2ZhKGN_vfcoF",
        "outputId": "271a82a6-dce3-4f3e-d23f-29364a155f7b"
      },
      "execution_count": 49,
      "outputs": [
        {
          "output_type": "stream",
          "name": "stdout",
          "text": [
            "                 word  count\n",
            "0        (ever, seen)   2527\n",
            "1         (ive, seen)   2193\n",
            "2  (special, effects)   2136\n",
            "3      (even, though)   1940\n",
            "4         (one, best)   1857\n"
          ]
        },
        {
          "output_type": "execute_result",
          "data": {
            "text/plain": [
              "<matplotlib.axes._subplots.AxesSubplot at 0x7f86da918580>"
            ]
          },
          "metadata": {},
          "execution_count": 49
        },
        {
          "output_type": "display_data",
          "data": {
            "text/plain": [
              "<Figure size 576x360 with 1 Axes>"
            ],
            "image/png": "[encoded data removed]"
          },
          "metadata": {}
        }
      ]
    },
    {
      "cell_type": "code",
      "source": [
        "#Trigram\n",
        "draw_n_gram(string,3)"
      ],
      "metadata": {
        "colab": {
          "base_uri": "https://localhost:8080/",
          "height": 464
        },
        "id": "9qWy74Q1fgnI",
        "outputId": "06389203-ba0a-4d6c-9ebc-b4c4700c47ab"
      },
      "execution_count": 50,
      "outputs": [
        {
          "output_type": "stream",
          "name": "stdout",
          "text": [
            "                   word  count\n",
            "0     (ive, ever, seen)    981\n",
            "1  (worst, movie, ever)    352\n",
            "2   (dont, waste, time)    313\n",
            "3  (one, worst, movies)    301\n",
            "4   (movie, ever, seen)    299\n"
          ]
        },
        {
          "output_type": "execute_result",
          "data": {
            "text/plain": [
              "<matplotlib.axes._subplots.AxesSubplot at 0x7f86da914ca0>"
            ]
          },
          "metadata": {},
          "execution_count": 50
        },
        {
          "output_type": "display_data",
          "data": {
            "text/plain": [
              "<Figure size 576x360 with 1 Axes>"
            ],
            "image/png": "[encoded data removed]"
          },
          "metadata": {}
        }
      ]
    },
    {
      "cell_type": "markdown",
      "source": [
        "**Train Test Split** <br>\n",
        "80% data (40k samples) for training <br>\n",
        "20% data (10k samples) for testing <br>"
      ],
      "metadata": {
        "id": "W-Yo13-BtVn2"
      }
    },
    {
      "cell_type": "code",
      "execution_count": 53,
      "metadata": {
        "id": "bojjrtNlY_Wz"
      },
      "outputs": [],
      "source": [
        "X_train = X[0:40000 ,:]\n",
        "X_test = X[40000:50000,: ]\n",
        "y_train = y[0:40000]\n",
        "y_test = y[40000:50000]"
      ]
    },
    {
      "cell_type": "code",
      "execution_count": 54,
      "metadata": {
        "colab": {
          "base_uri": "https://localhost:8080/"
        },
        "id": "lAf_hqU0Nr8W",
        "outputId": "b461eb5a-86b9-43a2-c26a-0a84b8168781"
      },
      "outputs": [
        {
          "output_type": "stream",
          "name": "stdout",
          "text": [
            "Training data: \n",
            "(40000, 182431)\n",
            "(40000,)\n"
          ]
        }
      ],
      "source": [
        "# Check size\n",
        "print(\"Training data: \")\n",
        "print(X_train.shape)\n",
        "print(y_train.shape)"
      ]
    },
    {
      "cell_type": "markdown",
      "source": [
        "# **Modeling**"
      ],
      "metadata": {
        "id": "YeNIyF3R8H9F"
      }
    },
    {
      "cell_type": "code",
      "execution_count": 55,
      "metadata": {
        "id": "cqxxzvkAcvs4"
      },
      "outputs": [],
      "source": [
        "# Create lists to store accuracy, precision, recall, F1 score and training time for every algorithm\n",
        "accuracy_list = []\n",
        "precision_list = []\n",
        "recall_list = []\n",
        "fscore_list = []\n",
        "time_list = []"
      ]
    },
    {
      "cell_type": "code",
      "execution_count": 57,
      "metadata": {
        "id": "UqHWwnQ8exxW"
      },
      "outputs": [],
      "source": [
        "from sklearn.ensemble import RandomForestClassifier\n",
        "from sklearn import metrics, model_selection, svm\n",
        "from sklearn.metrics import precision_recall_fscore_support, confusion_matrix, accuracy_score\n",
        "import time"
      ]
    },
    {
      "cell_type": "markdown",
      "source": [
        "**Random Forest Classifier**"
      ],
      "metadata": {
        "id": "mfQ_tmoHuFno"
      }
    },
    {
      "cell_type": "code",
      "execution_count": 58,
      "metadata": {
        "colab": {
          "base_uri": "https://localhost:8080/"
        },
        "id": "CHf1p58m3Xwt",
        "outputId": "aa5a2406-c7ef-4993-dcc4-fae3bea6ba06"
      },
      "outputs": [
        {
          "output_type": "execute_result",
          "data": {
            "text/plain": [
              "RandomForestClassifier(n_jobs=1, random_state=1)"
            ]
          },
          "metadata": {},
          "execution_count": 58
        }
      ],
      "source": [
        "# Initialize the classifier\n",
        "rf = RandomForestClassifier(n_jobs = -1, random_state =1)\n",
        "start_time = time.time()\n",
        "# Train the model on training dataset\n",
        "rf.fit(X_train, y_train)\n",
        "# Make binary predictions on testing dataset\n",
        "y_pred = rf.predict(X_test)\n",
        "end_time = time.time()\n",
        "rf_time = end_time - start_time\n",
        "# Stop the timer and append the time to the time list\n",
        "time_list.append(rf_time)"
      ]
    },
    {
      "cell_type": "code",
      "execution_count": 59,
      "metadata": {
        "colab": {
          "base_uri": "https://localhost:8080/",
          "height": 321
        },
        "id": "V3OAY6LEVLvG",
        "outputId": "71a31013-388f-4f68-e1cd-d19e68a4a96c"
      },
      "outputs": [
        {
          "output_type": "execute_result",
          "data": {
            "text/plain": [
              "<matplotlib.axes._subplots.AxesSubplot at 0x7f86cbde30a0>"
            ]
          },
          "metadata": {},
          "execution_count": 59
        },
        {
          "output_type": "execute_result",
          "data": {
            "text/plain": [
              "Text(0.5, 12.5, 'true labels')"
            ]
          },
          "metadata": {},
          "execution_count": 59
        },
        {
          "output_type": "execute_result",
          "data": {
            "text/plain": [
              "Text(80.90000000000006, 0.5, 'predicted label')"
            ]
          },
          "metadata": {},
          "execution_count": 59
        },
        {
          "output_type": "display_data",
          "data": {
            "text/plain": [
              "<Figure size 432x288 with 2 Axes>"
            ],
            "image/png": "[encoded data removed]"
          },
          "metadata": {}
        },
        {
          "output_type": "stream",
          "name": "stdout",
          "text": [
            "The accuracy is 0.8562\n"
          ]
        }
      ],
      "source": [
        "# Draw a confusion matrix with a heatmap\n",
        "text_categories = ['positive', 'negative']\n",
        "mat = confusion_matrix(y_test, y_pred)\n",
        "sns.heatmap(mat.T, square = True, annot=True, fmt = \"d\", xticklabels=text_categories, yticklabels=text_categories)\n",
        "plt.xlabel(\"true labels\")\n",
        "plt.ylabel(\"predicted label\")\n",
        "plt.show()\n",
        "# Find the accuracy and append it to the accuracy list\n",
        "print(\"The accuracy is {}\".format(accuracy_score(y_test, y_pred)))\n",
        "accuracy_list.append(accuracy_score(y_test, y_pred))"
      ]
    },
    {
      "cell_type": "code",
      "execution_count": 62,
      "metadata": {
        "colab": {
          "base_uri": "https://localhost:8080/",
          "height": 359
        },
        "id": "JGQfx-nyUH2M",
        "outputId": "ec73f096-4856-41d6-96a4-d0d88b789328"
      },
      "outputs": [
        {
          "output_type": "stream",
          "name": "stderr",
          "text": [
            "/usr/local/lib/python3.8/dist-packages/sklearn/utils/deprecation.py:87: FutureWarning: Function plot_roc_curve is deprecated; Function :func:`plot_roc_curve` is deprecated in 1.0 and will be removed in 1.2. Use one of the class methods: :meth:`sklearn.metric.RocCurveDisplay.from_predictions` or :meth:`sklearn.metric.RocCurveDisplay.from_estimator`.\n",
            "  warnings.warn(msg, category=FutureWarning)\n"
          ]
        },
        {
          "output_type": "execute_result",
          "data": {
            "text/plain": [
              "<sklearn.metrics._plot.roc_curve.RocCurveDisplay at 0x7f870e28ea30>"
            ]
          },
          "metadata": {},
          "execution_count": 62
        },
        {
          "output_type": "display_data",
          "data": {
            "text/plain": [
              "<Figure size 432x288 with 1 Axes>"
            ],
            "image/png": "[encoded data removed]"
          },
          "metadata": {}
        }
      ],
      "source": [
        "# Plot ROC curve\n",
        "metrics.plot_roc_curve(rf, X_test, y_test) \n",
        "plt.show()"
      ]
    },
    {
      "cell_type": "code",
      "execution_count": 60,
      "metadata": {
        "id": "K-uiujCWbfjT"
      },
      "outputs": [],
      "source": [
        "# Find precision, recall and F1 score and append them to the respective lists\n",
        "score = precision_recall_fscore_support(y_test, y_pred, average='binary')\n",
        "precision_Rf = score[0]\n",
        "precision_list.append(precision_Rf)\n",
        "recall_Rf = score[1]\n",
        "recall_list.append(recall_Rf)\n",
        "fscore_Rf = score[2]\n",
        "fscore_list.append(fscore_Rf)"
      ]
    },
    {
      "cell_type": "markdown",
      "metadata": {
        "id": "F5aPZi01FlVj"
      },
      "source": [
        "**SVM**"
      ]
    },
    {
      "cell_type": "code",
      "execution_count": 63,
      "metadata": {
        "colab": {
          "base_uri": "https://localhost:8080/"
        },
        "id": "li8cXuEioGwY",
        "outputId": "687fc973-95c8-442d-f4de-bfc39b92c13d"
      },
      "outputs": [
        {
          "output_type": "execute_result",
          "data": {
            "text/plain": [
              "SVC(gamma='auto', kernel='linear')"
            ]
          },
          "metadata": {},
          "execution_count": 63
        },
        {
          "output_type": "stream",
          "name": "stdout",
          "text": [
            "SVM Accuracy Score ->  0.8963\n"
          ]
        }
      ],
      "source": [
        "# SVM Classifier\n",
        "# fit the training dataset on the classifier\n",
        "SVM = svm.SVC(C=1.0, kernel='linear', degree=3, gamma='auto')\n",
        "start_time = time.time()\n",
        "SVM.fit(X_train, y_train)\n",
        "# predict the labels on validation dataset\n",
        "predictions_SVM = SVM.predict(X_test)\n",
        "end_time = time.time()\n",
        "svm_time = end_time - start_time\n",
        "time_list.append(svm_time)\n",
        "# Use accuracy_score function to get the accuracy and append it to the accuracy list\n",
        "print(\"SVM Accuracy Score -> \",accuracy_score(predictions_SVM, y_test))\n",
        "accuracy_list.append(accuracy_score(predictions_SVM, y_test))"
      ]
    },
    {
      "cell_type": "code",
      "execution_count": 65,
      "metadata": {
        "colab": {
          "base_uri": "https://localhost:8080/",
          "height": 323
        },
        "id": "-iPBuZyVT8HZ",
        "outputId": "ee26d4f0-dd72-4b08-ba7a-7dd805545206"
      },
      "outputs": [
        {
          "output_type": "execute_result",
          "data": {
            "text/plain": [
              "<matplotlib.axes._subplots.AxesSubplot at 0x7f86c5829d00>"
            ]
          },
          "metadata": {},
          "execution_count": 65
        },
        {
          "output_type": "execute_result",
          "data": {
            "text/plain": [
              "Text(0.5, 12.5, 'true labels')"
            ]
          },
          "metadata": {},
          "execution_count": 65
        },
        {
          "output_type": "execute_result",
          "data": {
            "text/plain": [
              "Text(80.90000000000006, 0.5, 'predicted label')"
            ]
          },
          "metadata": {},
          "execution_count": 65
        },
        {
          "output_type": "display_data",
          "data": {
            "text/plain": [
              "<Figure size 432x288 with 2 Axes>"
            ],
            "image/png": "[encoded data removed]"
          },
          "metadata": {}
        },
        {
          "output_type": "stream",
          "name": "stdout",
          "text": [
            "The accuracy is 0.8963\n"
          ]
        }
      ],
      "source": [
        "mat = confusion_matrix(y_test, predictions_SVM)\n",
        "sns.heatmap(mat.T, square = True, annot=True, fmt = \"d\", xticklabels=text_categories,yticklabels=text_categories)\n",
        "plt.xlabel(\"true labels\")\n",
        "plt.ylabel(\"predicted label\")\n",
        "plt.show()\n",
        "print(\"The accuracy is {}\".format(accuracy_score(y_test, predictions_SVM)))"
      ]
    },
    {
      "cell_type": "code",
      "execution_count": 64,
      "metadata": {
        "colab": {
          "base_uri": "https://localhost:8080/",
          "height": 359
        },
        "id": "od2aOrFPO0s3",
        "outputId": "f3769611-8f60-43c2-d84d-5a48d9c11143"
      },
      "outputs": [
        {
          "output_type": "stream",
          "name": "stderr",
          "text": [
            "/usr/local/lib/python3.8/dist-packages/sklearn/utils/deprecation.py:87: FutureWarning: Function plot_roc_curve is deprecated; Function :func:`plot_roc_curve` is deprecated in 1.0 and will be removed in 1.2. Use one of the class methods: :meth:`sklearn.metric.RocCurveDisplay.from_predictions` or :meth:`sklearn.metric.RocCurveDisplay.from_estimator`.\n",
            "  warnings.warn(msg, category=FutureWarning)\n"
          ]
        },
        {
          "output_type": "execute_result",
          "data": {
            "text/plain": [
              "<sklearn.metrics._plot.roc_curve.RocCurveDisplay at 0x7f86c44cf1f0>"
            ]
          },
          "metadata": {},
          "execution_count": 64
        },
        {
          "output_type": "display_data",
          "data": {
            "text/plain": [
              "<Figure size 432x288 with 1 Axes>"
            ],
            "image/png": "[encoded data removed]"
          },
          "metadata": {}
        }
      ],
      "source": [
        "import matplotlib.pyplot as plt\n",
        "from sklearn import datasets, metrics, model_selection, svm\n",
        "metrics.plot_roc_curve(SVM, X_test, y_test)\n",
        "plt.show()"
      ]
    },
    {
      "cell_type": "code",
      "execution_count": 66,
      "metadata": {
        "id": "JTew5epOcHw5"
      },
      "outputs": [],
      "source": [
        "# Find precision, recall and F1 score and append them to the respective lists\n",
        "score = precision_recall_fscore_support(y_test, predictions_SVM, average='binary')\n",
        "precision_SVM = score[0]\n",
        "precision_list.append(precision_SVM)\n",
        "recall_SVM = score[1]\n",
        "recall_list.append(recall_SVM)\n",
        "fscore_SVM = score[2]\n",
        "fscore_list.append(fscore_SVM)"
      ]
    },
    {
      "cell_type": "markdown",
      "metadata": {
        "id": "jraQKESwYMqQ"
      },
      "source": [
        "**Naive Bayes**"
      ]
    },
    {
      "cell_type": "code",
      "execution_count": 68,
      "metadata": {
        "colab": {
          "base_uri": "https://localhost:8080/"
        },
        "id": "EB_0Cj3fjrBO",
        "outputId": "076e55be-6247-4e04-d401-57156d191207"
      },
      "outputs": [
        {
          "output_type": "execute_result",
          "data": {
            "text/plain": [
              "BernoulliNB()"
            ]
          },
          "metadata": {},
          "execution_count": 68
        }
      ],
      "source": [
        "from sklearn.naive_bayes import BernoulliNB\n",
        "\n",
        "# Build the model\n",
        "nb = BernoulliNB()\n",
        "start_time = time.time()\n",
        "nb.fit(X_train, y_train)\n",
        "# Predict the categories of the test data\n",
        "predictions_nb = nb.predict(X_test)\n",
        "end_time = time.time()\n",
        "nb_time = end_time - start_time\n",
        "time_list.append(nb_time)"
      ]
    },
    {
      "cell_type": "code",
      "execution_count": 69,
      "metadata": {
        "colab": {
          "base_uri": "https://localhost:8080/",
          "height": 321
        },
        "id": "2uiUghxEYhNR",
        "outputId": "afbf8de2-051d-45d6-81a7-84bb8399ebbe"
      },
      "outputs": [
        {
          "output_type": "execute_result",
          "data": {
            "text/plain": [
              "<matplotlib.axes._subplots.AxesSubplot at 0x7f86ca67ff10>"
            ]
          },
          "metadata": {},
          "execution_count": 69
        },
        {
          "output_type": "execute_result",
          "data": {
            "text/plain": [
              "Text(0.5, 12.5, 'true labels')"
            ]
          },
          "metadata": {},
          "execution_count": 69
        },
        {
          "output_type": "execute_result",
          "data": {
            "text/plain": [
              "Text(80.90000000000006, 0.5, 'predicted label')"
            ]
          },
          "metadata": {},
          "execution_count": 69
        },
        {
          "output_type": "display_data",
          "data": {
            "text/plain": [
              "<Figure size 432x288 with 2 Axes>"
            ],
            "image/png": "[encoded data removed]"
          },
          "metadata": {}
        },
        {
          "output_type": "stream",
          "name": "stdout",
          "text": [
            "The accuracy is 0.8655\n"
          ]
        }
      ],
      "source": [
        "# Plot a confusion matrix with heatmap\n",
        "mat = confusion_matrix(y_test, predictions_nb)\n",
        "sns.heatmap(mat.T, square = True, annot=True, fmt = \"d\", xticklabels=text_categories,yticklabels=text_categories)\n",
        "plt.xlabel(\"true labels\")\n",
        "plt.ylabel(\"predicted label\")\n",
        "plt.show()\n",
        "print(\"The accuracy is {}\".format(accuracy_score(y_test, predictions_nb)))\n",
        "accuracy_list.append(accuracy_score(y_test, predictions_nb))"
      ]
    },
    {
      "cell_type": "code",
      "execution_count": 72,
      "metadata": {
        "colab": {
          "base_uri": "https://localhost:8080/",
          "height": 359
        },
        "id": "JTazexm2kkmM",
        "outputId": "6667532a-2963-48ce-d70c-961a195be077"
      },
      "outputs": [
        {
          "output_type": "stream",
          "name": "stderr",
          "text": [
            "/usr/local/lib/python3.8/dist-packages/sklearn/utils/deprecation.py:87: FutureWarning: Function plot_roc_curve is deprecated; Function :func:`plot_roc_curve` is deprecated in 1.0 and will be removed in 1.2. Use one of the class methods: :meth:`sklearn.metric.RocCurveDisplay.from_predictions` or :meth:`sklearn.metric.RocCurveDisplay.from_estimator`.\n",
            "  warnings.warn(msg, category=FutureWarning)\n"
          ]
        },
        {
          "output_type": "execute_result",
          "data": {
            "text/plain": [
              "<sklearn.metrics._plot.roc_curve.RocCurveDisplay at 0x7f86ca681fd0>"
            ]
          },
          "metadata": {},
          "execution_count": 72
        },
        {
          "output_type": "display_data",
          "data": {
            "text/plain": [
              "<Figure size 432x288 with 1 Axes>"
            ],
            "image/png": "[encoded data removed]"
          },
          "metadata": {}
        }
      ],
      "source": [
        "# Plot ROC curve\n",
        "metrics.plot_roc_curve(nb, X_test, y_test) \n",
        "plt.show()"
      ]
    },
    {
      "cell_type": "code",
      "execution_count": 70,
      "metadata": {
        "id": "zSZKmiL6kFZ0"
      },
      "outputs": [],
      "source": [
        "# Find precision, recall and F1 score and append them to the respective lists\n",
        "score = precision_recall_fscore_support(y_test, predictions_nb, average='binary')\n",
        "precision_NB = score[0]\n",
        "precision_list.append(precision_NB)\n",
        "recall_NB = score[1]\n",
        "recall_list.append(recall_NB)\n",
        "fscore_NB = score[2]\n",
        "fscore_list.append(fscore_NB)"
      ]
    },
    {
      "cell_type": "markdown",
      "metadata": {
        "id": "sR77gv5hY8YJ"
      },
      "source": [
        "**KNN**"
      ]
    },
    {
      "cell_type": "code",
      "execution_count": 73,
      "metadata": {
        "colab": {
          "base_uri": "https://localhost:8080/"
        },
        "id": "_cIfX9ClcLkH",
        "outputId": "2eed2e33-dcb9-4794-a914-aad6f817027d"
      },
      "outputs": [
        {
          "output_type": "execute_result",
          "data": {
            "text/plain": [
              "KNeighborsClassifier(n_neighbors=20)"
            ]
          },
          "metadata": {},
          "execution_count": 73
        },
        {
          "output_type": "stream",
          "name": "stdout",
          "text": [
            "Model Accuracy : 0.7971%\n"
          ]
        }
      ],
      "source": [
        "#Building the KNN Model \n",
        "from sklearn.neighbors import KNeighborsClassifier\n",
        "model_knn = KNeighborsClassifier(n_neighbors=20)\n",
        "start_time = time.time()\n",
        "model_knn.fit(X_train, y_train)\n",
        "#making predictions\n",
        "predictions_knn = model_knn.predict(X_test)\n",
        "end_time = time.time()\n",
        "knn_time = end_time - start_time\n",
        "time_list.append(knn_time)\n",
        "#Find accuracy and append it to the accuracy list\n",
        "print(\"Model Accuracy : {}%\".format(accuracy_score(y_test, predictions_knn)))\n",
        "accuracy_list.append(accuracy_score(y_test, predictions_knn))"
      ]
    },
    {
      "cell_type": "code",
      "execution_count": 74,
      "metadata": {
        "colab": {
          "base_uri": "https://localhost:8080/",
          "height": 321
        },
        "id": "IlO1YCyvcUrH",
        "outputId": "01dd51f7-179a-4fd7-8166-76925abbac71"
      },
      "outputs": [
        {
          "output_type": "execute_result",
          "data": {
            "text/plain": [
              "<matplotlib.axes._subplots.AxesSubplot at 0x7f86cae0bfa0>"
            ]
          },
          "metadata": {},
          "execution_count": 74
        },
        {
          "output_type": "execute_result",
          "data": {
            "text/plain": [
              "Text(0.5, 12.5, 'true labels')"
            ]
          },
          "metadata": {},
          "execution_count": 74
        },
        {
          "output_type": "execute_result",
          "data": {
            "text/plain": [
              "Text(80.90000000000006, 0.5, 'predicted label')"
            ]
          },
          "metadata": {},
          "execution_count": 74
        },
        {
          "output_type": "display_data",
          "data": {
            "text/plain": [
              "<Figure size 432x288 with 2 Axes>"
            ],
            "image/png": "[encoded data removed]"
          },
          "metadata": {}
        },
        {
          "output_type": "stream",
          "name": "stdout",
          "text": [
            "The accuracy is 0.7971\n"
          ]
        }
      ],
      "source": [
        "# Build a confusion matrix with heatmap\n",
        "mat = confusion_matrix(y_test, predictions_knn)\n",
        "sns.heatmap(mat.T, square = True, annot=True, fmt = \"d\", xticklabels=text_categories,yticklabels=text_categories)\n",
        "plt.xlabel(\"true labels\")\n",
        "plt.ylabel(\"predicted label\")\n",
        "plt.show()\n",
        "print(\"The accuracy is {}\".format(accuracy_score(y_test, predictions_knn)))"
      ]
    },
    {
      "cell_type": "code",
      "execution_count": 77,
      "metadata": {
        "colab": {
          "base_uri": "https://localhost:8080/",
          "height": 359
        },
        "id": "0D0A1P-HcfcS",
        "outputId": "85796f4f-9e7d-4dc0-a461-4d66a09cf10a"
      },
      "outputs": [
        {
          "output_type": "stream",
          "name": "stderr",
          "text": [
            "/usr/local/lib/python3.8/dist-packages/sklearn/utils/deprecation.py:87: FutureWarning: Function plot_roc_curve is deprecated; Function :func:`plot_roc_curve` is deprecated in 1.0 and will be removed in 1.2. Use one of the class methods: :meth:`sklearn.metric.RocCurveDisplay.from_predictions` or :meth:`sklearn.metric.RocCurveDisplay.from_estimator`.\n",
            "  warnings.warn(msg, category=FutureWarning)\n"
          ]
        },
        {
          "output_type": "execute_result",
          "data": {
            "text/plain": [
              "<sklearn.metrics._plot.roc_curve.RocCurveDisplay at 0x7f86cb85bb80>"
            ]
          },
          "metadata": {},
          "execution_count": 77
        },
        {
          "output_type": "display_data",
          "data": {
            "text/plain": [
              "<Figure size 432x288 with 1 Axes>"
            ],
            "image/png": "[encoded data removed]"
          },
          "metadata": {}
        }
      ],
      "source": [
        "# plot ROC curve\n",
        "metrics.plot_roc_curve(model_knn, X_test, y_test) \n",
        "plt.show()"
      ]
    },
    {
      "cell_type": "code",
      "execution_count": 75,
      "metadata": {
        "id": "7mLMD5B_cbYZ"
      },
      "outputs": [],
      "source": [
        "# Find precision, recall and F1 score and append them to the respective lists\n",
        "score = precision_recall_fscore_support(y_test, predictions_knn, average='binary')\n",
        "precision_KNN = score[0]\n",
        "precision_list.append(precision_KNN)\n",
        "recall_KNN = score[1]\n",
        "recall_list.append(recall_KNN)\n",
        "fscore_KNN = score[2]\n",
        "fscore_list.append(fscore_KNN)"
      ]
    },
    {
      "cell_type": "markdown",
      "metadata": {
        "id": "oirec6FyY_eM"
      },
      "source": [
        "**Logistic Regression**"
      ]
    },
    {
      "cell_type": "code",
      "execution_count": 78,
      "metadata": {
        "colab": {
          "base_uri": "https://localhost:8080/"
        },
        "id": "EoMxgNBwa3Ij",
        "outputId": "8a4ba3ed-061a-4083-b233-b13f363b28a1"
      },
      "outputs": [
        {
          "output_type": "execute_result",
          "data": {
            "text/plain": [
              "LogisticRegression()"
            ]
          },
          "metadata": {},
          "execution_count": 78
        },
        {
          "output_type": "stream",
          "name": "stdout",
          "text": [
            "Model Accuracy : 0.891%\n"
          ]
        }
      ],
      "source": [
        "# building Logistic Regression Model\n",
        "from sklearn import linear_model\n",
        "model_lr = linear_model.LogisticRegression()\n",
        "start_time = time.time()\n",
        "model_lr.fit(X_train, y_train)\n",
        "#making predictions\n",
        "predictions_lr= model_lr.predict(X_test)\n",
        "end_time = time.time()\n",
        "lr_time = end_time - start_time\n",
        "time_list.append(lr_time)\n",
        "#Find accuracy and append to the accuracy list\n",
        "print(\"Model Accuracy : {}%\".format(accuracy_score(y_test, predictions_lr)))\n",
        "accuracy_list.append(accuracy_score(y_test, predictions_lr))"
      ]
    },
    {
      "cell_type": "code",
      "execution_count": 79,
      "metadata": {
        "colab": {
          "base_uri": "https://localhost:8080/",
          "height": 322
        },
        "id": "stq6kznlbWWk",
        "outputId": "c62aca93-c76d-43d3-e84b-279907ad8c9c"
      },
      "outputs": [
        {
          "output_type": "execute_result",
          "data": {
            "text/plain": [
              "<matplotlib.axes._subplots.AxesSubplot at 0x7f870dd769a0>"
            ]
          },
          "metadata": {},
          "execution_count": 79
        },
        {
          "output_type": "execute_result",
          "data": {
            "text/plain": [
              "Text(0.5, 12.5, 'true labels')"
            ]
          },
          "metadata": {},
          "execution_count": 79
        },
        {
          "output_type": "execute_result",
          "data": {
            "text/plain": [
              "Text(80.90000000000006, 0.5, 'predicted label')"
            ]
          },
          "metadata": {},
          "execution_count": 79
        },
        {
          "output_type": "display_data",
          "data": {
            "text/plain": [
              "<Figure size 432x288 with 2 Axes>"
            ],
            "image/png": "[encoded data removed]"
          },
          "metadata": {}
        },
        {
          "output_type": "stream",
          "name": "stdout",
          "text": [
            "The accuracy is 0.891\n"
          ]
        }
      ],
      "source": [
        "# Draw a confusion matrix with heatmap\n",
        "mat = confusion_matrix(y_test, predictions_lr)\n",
        "sns.heatmap(mat.T, square = True, annot=True, fmt = \"d\", xticklabels=text_categories,yticklabels=text_categories)\n",
        "plt.xlabel(\"true labels\")\n",
        "plt.ylabel(\"predicted label\")\n",
        "plt.show()\n",
        "print(\"The accuracy is {}\".format(accuracy_score(y_test, predictions_lr)))"
      ]
    },
    {
      "cell_type": "code",
      "execution_count": 82,
      "metadata": {
        "colab": {
          "base_uri": "https://localhost:8080/",
          "height": 359
        },
        "id": "1Ac4VJTTbjuF",
        "outputId": "bd785771-dfdf-45b6-ffe5-b7731fd53971"
      },
      "outputs": [
        {
          "output_type": "stream",
          "name": "stderr",
          "text": [
            "/usr/local/lib/python3.8/dist-packages/sklearn/utils/deprecation.py:87: FutureWarning: Function plot_roc_curve is deprecated; Function :func:`plot_roc_curve` is deprecated in 1.0 and will be removed in 1.2. Use one of the class methods: :meth:`sklearn.metric.RocCurveDisplay.from_predictions` or :meth:`sklearn.metric.RocCurveDisplay.from_estimator`.\n",
            "  warnings.warn(msg, category=FutureWarning)\n"
          ]
        },
        {
          "output_type": "execute_result",
          "data": {
            "text/plain": [
              "<sklearn.metrics._plot.roc_curve.RocCurveDisplay at 0x7f86cd018f70>"
            ]
          },
          "metadata": {},
          "execution_count": 82
        },
        {
          "output_type": "display_data",
          "data": {
            "text/plain": [
              "<Figure size 432x288 with 1 Axes>"
            ],
            "image/png": "[encoded data removed]"
          },
          "metadata": {}
        }
      ],
      "source": [
        "# Plot ROC curve\n",
        "metrics.plot_roc_curve(model_lr, X_test, y_test) \n",
        "plt.show()"
      ]
    },
    {
      "cell_type": "code",
      "execution_count": 80,
      "metadata": {
        "id": "G9ZjdJapbjuF"
      },
      "outputs": [],
      "source": [
        "# Find precision, recall and F1 score and append them to the respective lists\n",
        "score = precision_recall_fscore_support(y_test, predictions_lr, average='binary')\n",
        "precision_LR = score[0]\n",
        "precision_list.append(precision_LR)\n",
        "recall_LR = score[1]\n",
        "recall_list.append(recall_LR)\n",
        "fscore_LR = score[2]\n",
        "fscore_list.append(fscore_LR)"
      ]
    },
    {
      "cell_type": "markdown",
      "source": [
        "**Print Accuracy List**"
      ],
      "metadata": {
        "id": "Qwmqqaywv6W9"
      }
    },
    {
      "cell_type": "code",
      "execution_count": 84,
      "metadata": {
        "colab": {
          "base_uri": "https://localhost:8080/"
        },
        "id": "ojyRmzn_ftJp",
        "outputId": "37b5db6f-8783-4602-f69d-a5bfec046668"
      },
      "outputs": [
        {
          "output_type": "execute_result",
          "data": {
            "text/plain": [
              "[0.8562, 0.8963, 0.8655, 0.7971, 0.891]"
            ]
          },
          "metadata": {},
          "execution_count": 84
        }
      ],
      "source": [
        "accuracy_list"
      ]
    },
    {
      "cell_type": "markdown",
      "source": [
        "**Print Precision List**"
      ],
      "metadata": {
        "id": "FEFqAUXev9vK"
      }
    },
    {
      "cell_type": "code",
      "execution_count": 85,
      "metadata": {
        "colab": {
          "base_uri": "https://localhost:8080/"
        },
        "id": "YP_fkNImfuGp",
        "outputId": "a981187c-f4e7-468b-c67a-d9e28fc9a760"
      },
      "outputs": [
        {
          "output_type": "execute_result",
          "data": {
            "text/plain": [
              "[0.8576838748255929,\n",
              " 0.8938018160284248,\n",
              " 0.8882328131590046,\n",
              " 0.7794556301267711,\n",
              " 0.8821588041157057]"
            ]
          },
          "metadata": {},
          "execution_count": 85
        }
      ],
      "source": [
        "precision_list"
      ]
    },
    {
      "cell_type": "markdown",
      "source": [
        "**Print Recall List**"
      ],
      "metadata": {
        "id": "F7fWg4ccv_9E"
      }
    },
    {
      "cell_type": "code",
      "execution_count": 86,
      "metadata": {
        "colab": {
          "base_uri": "https://localhost:8080/"
        },
        "id": "0JV4p-rIfvVD",
        "outputId": "96e9e248-0b8b-4156-b7bb-ae6aa47bdcf3"
      },
      "outputs": [
        {
          "output_type": "execute_result",
          "data": {
            "text/plain": [
              "[0.8559777203103243,\n",
              " 0.9007360254625025,\n",
              " 0.8378754724487766,\n",
              " 0.8317087726278098,\n",
              " 0.9039188382733241]"
            ]
          },
          "metadata": {},
          "execution_count": 86
        }
      ],
      "source": [
        "recall_list"
      ]
    },
    {
      "cell_type": "markdown",
      "source": [
        "**Print F1 Score List**"
      ],
      "metadata": {
        "id": "KQ_WeFFRwBz8"
      }
    },
    {
      "cell_type": "code",
      "execution_count": 87,
      "metadata": {
        "colab": {
          "base_uri": "https://localhost:8080/"
        },
        "id": "thw4Uxvtf8te",
        "outputId": "7eafe5ea-3224-4159-fc4e-e40af15a2057"
      },
      "outputs": [
        {
          "output_type": "execute_result",
          "data": {
            "text/plain": [
              "[0.8568299482277978,\n",
              " 0.8972555236302387,\n",
              " 0.862319582352339,\n",
              " 0.8047348667115775,\n",
              " 0.892906268422087]"
            ]
          },
          "metadata": {},
          "execution_count": 87
        }
      ],
      "source": [
        "fscore_list"
      ]
    },
    {
      "cell_type": "markdown",
      "source": [
        "**Print Training Time List**"
      ],
      "metadata": {
        "id": "vNyg8zGPwD15"
      }
    },
    {
      "cell_type": "code",
      "execution_count": 88,
      "metadata": {
        "colab": {
          "base_uri": "https://localhost:8080/"
        },
        "id": "TGPSKD-6EI3N",
        "outputId": "bca7309d-8012-4087-931a-6523ccd9e456"
      },
      "outputs": [
        {
          "output_type": "execute_result",
          "data": {
            "text/plain": [
              "[365.1836416721344,\n",
              " 2352.2167160511017,\n",
              " 0.1604769229888916,\n",
              " 40.60876226425171,\n",
              " 15.421560287475586]"
            ]
          },
          "metadata": {},
          "execution_count": 88
        }
      ],
      "source": [
        "time_list"
      ]
    },
    {
      "cell_type": "markdown",
      "source": [
        "**List of all the algorithms above**"
      ],
      "metadata": {
        "id": "Gz9ItBenwHNw"
      }
    },
    {
      "cell_type": "code",
      "execution_count": 89,
      "metadata": {
        "id": "hCNA1utDgBsX"
      },
      "outputs": [],
      "source": [
        "algo_list = ['Random Forest', 'SVM', 'Naive Bayes', 'KNN', 'Logistic Regression']"
      ]
    },
    {
      "cell_type": "markdown",
      "source": [
        "**Plot F1 Score**"
      ],
      "metadata": {
        "id": "tmBwEIi9wNH7"
      }
    },
    {
      "cell_type": "code",
      "execution_count": 90,
      "metadata": {
        "colab": {
          "base_uri": "https://localhost:8080/",
          "height": 428
        },
        "id": "PlKFdAxGgOSm",
        "outputId": "3be07905-d221-4be7-bc16-a12602cf8db3"
      },
      "outputs": [
        {
          "output_type": "execute_result",
          "data": {
            "text/plain": [
              "<BarContainer object of 5 artists>"
            ]
          },
          "metadata": {},
          "execution_count": 90
        },
        {
          "output_type": "execute_result",
          "data": {
            "text/plain": [
              "Text(0.5, 0, 'Algorithms')"
            ]
          },
          "metadata": {},
          "execution_count": 90
        },
        {
          "output_type": "execute_result",
          "data": {
            "text/plain": [
              "Text(0, 0.5, 'F1 Score')"
            ]
          },
          "metadata": {},
          "execution_count": 90
        },
        {
          "output_type": "execute_result",
          "data": {
            "text/plain": [
              "Text(0.5, 1.0, 'F1 Score Comparison')"
            ]
          },
          "metadata": {},
          "execution_count": 90
        },
        {
          "output_type": "display_data",
          "data": {
            "text/plain": [
              "<Figure size 432x432 with 1 Axes>"
            ],
            "image/png": "[encoded data removed]"
          },
          "metadata": {}
        }
      ],
      "source": [
        "import matplotlib.pyplot as plt\n",
        "\n",
        "fig = plt.figure(figsize = (6, 6))\n",
        "# creating the bar plot\n",
        "plt.bar(algo_list, fscore_list,\n",
        "        color ='blueviolet',\n",
        "        width = 0.4)\n",
        "plt.xlabel(\"Algorithms\")\n",
        "plt.ylabel(\"F1 Score\")\n",
        "plt.title(\"F1 Score Comparison\")\n",
        "plt.show()"
      ]
    },
    {
      "cell_type": "markdown",
      "source": [
        "**Plot Precision**"
      ],
      "metadata": {
        "id": "wbrvcGgIwRW5"
      }
    },
    {
      "cell_type": "code",
      "execution_count": 91,
      "metadata": {
        "colab": {
          "base_uri": "https://localhost:8080/",
          "height": 428
        },
        "id": "wEj4hjvShDJX",
        "outputId": "6fdbd3e7-c41e-4c6f-966b-8569a8cd057e"
      },
      "outputs": [
        {
          "output_type": "execute_result",
          "data": {
            "text/plain": [
              "<BarContainer object of 5 artists>"
            ]
          },
          "metadata": {},
          "execution_count": 91
        },
        {
          "output_type": "execute_result",
          "data": {
            "text/plain": [
              "Text(0.5, 0, 'Algorithms')"
            ]
          },
          "metadata": {},
          "execution_count": 91
        },
        {
          "output_type": "execute_result",
          "data": {
            "text/plain": [
              "Text(0, 0.5, 'Precision')"
            ]
          },
          "metadata": {},
          "execution_count": 91
        },
        {
          "output_type": "execute_result",
          "data": {
            "text/plain": [
              "Text(0.5, 1.0, 'Precision Comparison')"
            ]
          },
          "metadata": {},
          "execution_count": 91
        },
        {
          "output_type": "display_data",
          "data": {
            "text/plain": [
              "<Figure size 432x432 with 1 Axes>"
            ],
            "image/png": "[encoded data removed]"
          },
          "metadata": {}
        }
      ],
      "source": [
        "import matplotlib.pyplot as plt\n",
        "\n",
        "fig = plt.figure(figsize = (6, 6))\n",
        "# creating the bar plot\n",
        "plt.bar(algo_list, precision_list, \n",
        "        color ='magenta',\n",
        "        width = 0.4)\n",
        "plt.xlabel(\"Algorithms\")\n",
        "plt.ylabel(\"Precision\")\n",
        "plt.title(\"Precision Comparison\")\n",
        "plt.show()"
      ]
    },
    {
      "cell_type": "markdown",
      "source": [
        "**Plot Recall**"
      ],
      "metadata": {
        "id": "MEOoaIIpwUjI"
      }
    },
    {
      "cell_type": "code",
      "execution_count": 92,
      "metadata": {
        "colab": {
          "base_uri": "https://localhost:8080/",
          "height": 428
        },
        "id": "G037R5KdhQ7R",
        "outputId": "78242ab6-1c59-47b0-83e2-1345193862f0"
      },
      "outputs": [
        {
          "output_type": "execute_result",
          "data": {
            "text/plain": [
              "<BarContainer object of 5 artists>"
            ]
          },
          "metadata": {},
          "execution_count": 92
        },
        {
          "output_type": "execute_result",
          "data": {
            "text/plain": [
              "Text(0.5, 0, 'Algorithms')"
            ]
          },
          "metadata": {},
          "execution_count": 92
        },
        {
          "output_type": "execute_result",
          "data": {
            "text/plain": [
              "Text(0, 0.5, 'Recall Score')"
            ]
          },
          "metadata": {},
          "execution_count": 92
        },
        {
          "output_type": "execute_result",
          "data": {
            "text/plain": [
              "Text(0.5, 1.0, 'Recall Comparison')"
            ]
          },
          "metadata": {},
          "execution_count": 92
        },
        {
          "output_type": "display_data",
          "data": {
            "text/plain": [
              "<Figure size 432x432 with 1 Axes>"
            ],
            "image/png": "[encoded data removed]"
          },
          "metadata": {}
        }
      ],
      "source": [
        "import matplotlib.pyplot as plt\n",
        "\n",
        "fig = plt.figure(figsize = (6, 6))\n",
        "# creating the bar plot\n",
        "plt.bar(algo_list, recall_list, \n",
        "        color ='goldenrod',\n",
        "        width = 0.4)\n",
        "plt.xlabel(\"Algorithms\")\n",
        "plt.ylabel(\"Recall Score\")\n",
        "plt.title(\"Recall Comparison\")\n",
        "plt.show()"
      ]
    },
    {
      "cell_type": "markdown",
      "source": [
        "**Plot Accuracy**"
      ],
      "metadata": {
        "id": "vHVz7zd1wWzZ"
      }
    },
    {
      "cell_type": "code",
      "execution_count": 93,
      "metadata": {
        "colab": {
          "base_uri": "https://localhost:8080/",
          "height": 428
        },
        "id": "HUIaecvYhcAO",
        "outputId": "56d3c848-1af5-4f19-fb5e-ccb37c359a30"
      },
      "outputs": [
        {
          "output_type": "execute_result",
          "data": {
            "text/plain": [
              "<BarContainer object of 5 artists>"
            ]
          },
          "metadata": {},
          "execution_count": 93
        },
        {
          "output_type": "execute_result",
          "data": {
            "text/plain": [
              "Text(0.5, 0, 'Algorithms')"
            ]
          },
          "metadata": {},
          "execution_count": 93
        },
        {
          "output_type": "execute_result",
          "data": {
            "text/plain": [
              "Text(0, 0.5, 'Accuracy')"
            ]
          },
          "metadata": {},
          "execution_count": 93
        },
        {
          "output_type": "execute_result",
          "data": {
            "text/plain": [
              "Text(0.5, 1.0, 'Accuracy Comparison')"
            ]
          },
          "metadata": {},
          "execution_count": 93
        },
        {
          "output_type": "display_data",
          "data": {
            "text/plain": [
              "<Figure size 432x432 with 1 Axes>"
            ],
            "image/png": "[encoded data removed]"
          },
          "metadata": {}
        }
      ],
      "source": [
        "import matplotlib.pyplot as plt\n",
        "\n",
        "fig = plt.figure(figsize = (6, 6))\n",
        "# creating the bar plot\n",
        "plt.bar(algo_list, accuracy_list, color ='teal',\n",
        "        width = 0.4)\n",
        "plt.xlabel(\"Algorithms\")\n",
        "plt.ylabel(\"Accuracy\")\n",
        "plt.title(\"Accuracy Comparison\")\n",
        "plt.show()"
      ]
    },
    {
      "cell_type": "markdown",
      "source": [
        "**Plot Training time**"
      ],
      "metadata": {
        "id": "1ffZpfV6wbP1"
      }
    },
    {
      "cell_type": "code",
      "execution_count": 94,
      "metadata": {
        "colab": {
          "base_uri": "https://localhost:8080/",
          "height": 428
        },
        "id": "ZwbI4RT02WGE",
        "outputId": "7851fac5-0c97-41ca-e139-64a086e9846a"
      },
      "outputs": [
        {
          "output_type": "execute_result",
          "data": {
            "text/plain": [
              "<BarContainer object of 5 artists>"
            ]
          },
          "metadata": {},
          "execution_count": 94
        },
        {
          "output_type": "execute_result",
          "data": {
            "text/plain": [
              "Text(0.5, 0, 'Algorithms')"
            ]
          },
          "metadata": {},
          "execution_count": 94
        },
        {
          "output_type": "execute_result",
          "data": {
            "text/plain": [
              "Text(0, 0.5, 'Training Time')"
            ]
          },
          "metadata": {},
          "execution_count": 94
        },
        {
          "output_type": "execute_result",
          "data": {
            "text/plain": [
              "Text(0.5, 1.0, 'Training & Prediction Time Comparison')"
            ]
          },
          "metadata": {},
          "execution_count": 94
        },
        {
          "output_type": "display_data",
          "data": {
            "text/plain": [
              "<Figure size 432x432 with 1 Axes>"
            ],
            "image/png": "[encoded data removed]"
          },
          "metadata": {}
        }
      ],
      "source": [
        "import matplotlib.pyplot as plt\n",
        "\n",
        "fig = plt.figure(figsize = (6, 6))\n",
        "# creating the bar plot\n",
        "plt.bar(algo_list, time_list,\n",
        "        color ='palevioletred', width = 0.4)\n",
        "plt.xlabel(\"Algorithms\")\n",
        "plt.ylabel(\"Training Time\")\n",
        "plt.title(\"Training & Prediction Time Comparison\")\n",
        "plt.show()"
      ]
    },
    {
      "cell_type": "markdown",
      "source": [
        "# **Additional Work - Deep Learning Models**"
      ],
      "metadata": {
        "id": "Kb8iNAfPxnMK"
      }
    },
    {
      "cell_type": "markdown",
      "source": [
        "**Deep Learning Models** <br>\n",
        "Reference code: https://github.com/072arushi/Movie_review_analysis"
      ],
      "metadata": {
        "id": "uVm2VeY2XWLE"
      }
    },
    {
      "cell_type": "code",
      "source": [
        "from sklearn.feature_extraction.text import CountVectorizer\n",
        "from sklearn.feature_extraction.text import TfidfVectorizer\n",
        "from sklearn.model_selection import train_test_split\n",
        "from sklearn.preprocessing import LabelBinarizer\n",
        "from sklearn.feature_extraction.text import TfidfVectorizer\n",
        "from sklearn.model_selection import cross_val_score\n",
        "from sklearn.metrics import f1_score\n",
        "from sklearn.model_selection import GridSearchCV\n",
        "from nltk.stem import WordNetLemmatizer\n",
        "from nltk.tokenize import word_tokenize,sent_tokenize\n",
        "import spacy\n",
        "import re,string,unicodedata\n",
        "from nltk.tokenize.toktok import ToktokTokenizer\n",
        "from nltk.stem import LancasterStemmer,WordNetLemmatizer\n",
        "from sklearn.linear_model import LogisticRegression,SGDClassifier\n",
        "from sklearn.naive_bayes import MultinomialNB\n",
        "from sklearn.svm import SVC\n",
        "from textblob import TextBlob\n",
        "from textblob import Word\n",
        "from keras.models import Sequential\n",
        "from keras.layers import Dense, Dropout\n",
        "from sklearn.metrics import classification_report,confusion_matrix,accuracy_score\n",
        "from keras.wrappers.scikit_learn import KerasClassifier\n",
        "import string\n",
        "from keras.preprocessing.text import Tokenizer\n",
        "from keras.preprocessing import text, sequence\n",
        "from keras import layers, models, optimizers\n",
        "from keras_preprocessing.sequence import pad_sequences\n",
        "from keras.callbacks import ModelCheckpoint\n",
        "from keras.layers import LSTM,Dropout\n",
        "from keras.layers import Embedding\n",
        "from keras.preprocessing import sequence\n",
        "from keras.layers import LSTM, Conv1D, MaxPooling1D, Dropout\n",
        "from keras.callbacks import EarlyStopping"
      ],
      "metadata": {
        "id": "wGHwm7tgW7cU",
        "colab": {
          "base_uri": "https://localhost:8080/"
        },
        "outputId": "a31db9ec-057f-4638-9656-a0ec93da6fc1"
      },
      "execution_count": 103,
      "outputs": [
        {
          "output_type": "stream",
          "name": "stderr",
          "text": [
            "/usr/local/lib/python3.8/dist-packages/torch/cuda/__init__.py:497: UserWarning: Can't initialize NVML\n",
            "  warnings.warn(\"Can't initialize NVML\")\n"
          ]
        }
      ]
    },
    {
      "cell_type": "code",
      "source": [
        "# Create lists for algorithms and their accuracies\n",
        "accuracy_list_dl = []\n",
        "algo_list_dl = ['CNN', 'LSTM']"
      ],
      "metadata": {
        "id": "AgmPYcO5awd8"
      },
      "execution_count": 104,
      "outputs": []
    },
    {
      "cell_type": "markdown",
      "source": [
        "**Convolutional Neural Network**"
      ],
      "metadata": {
        "id": "BlfHaxH9XjhZ"
      }
    },
    {
      "cell_type": "code",
      "source": [
        "# CNN MODEL\n",
        "tokenizer = Tokenizer(num_words=10000)\n",
        "tokenizer.fit_on_texts(df_merged.review)\n",
        "embedding_dim = 50\n",
        "maxlen = 150\n",
        "\n",
        "# train test Split\n",
        "x_train, x_test, y_train, y_test = train_test_split(df_merged['review'], df_merged['sentiment'],test_size=0.2, random_state=0)\n",
        "# test validation split\n",
        "x_train, x_valid, y_train, y_valid = train_test_split(x_train, y_train,test_size=0.1, random_state=0)\n",
        "\n",
        "# tokenization of input training data\n",
        "x_train1 = tokenizer.texts_to_sequences(x_train)\n",
        "x_valid1 = tokenizer.texts_to_sequences(x_valid)\n",
        "x_test1 = tokenizer.texts_to_sequences(x_test)\n",
        "\n",
        "x_train1 = pad_sequences(x_train1, padding='post', maxlen=maxlen)\n",
        "x_valid1 = pad_sequences(x_valid1, padding='post', maxlen=maxlen)\n",
        "x_test1 = pad_sequences(x_test1, padding='post', maxlen=maxlen)\n",
        "\n",
        "vocab_size = len(tokenizer.word_index) + 1  # Adding 1 because of reserved 0 index\n",
        "embedding_vecor_length = 32\n",
        "callback = EarlyStopping(monitor='val_loss', patience=2)\n",
        "\n",
        "# create layers for CNN\n",
        "model = Sequential()\n",
        "model.add(Embedding(input_dim=vocab_size, output_dim=embedding_dim, input_length=maxlen))\n",
        "model.add(Conv1D(filters=32, kernel_size=3, padding='same', activation='relu'))\n",
        "model.add(MaxPooling1D(pool_size=2))\n",
        "model.add(Conv1D(filters=32, kernel_size=3, padding='same', activation='relu'))\n",
        "model.add(MaxPooling1D(pool_size=2))\n",
        "model.add(Conv1D(filters=32, kernel_size=3, padding='same', activation='relu'))\n",
        "model.add(MaxPooling1D(pool_size=2))\n",
        "model.add(Dense(1, activation='sigmoid'))\n",
        "\n",
        "# compile the model\n",
        "model.compile(loss='binary_crossentropy', optimizer='adam', metrics=['accuracy'])\n",
        "print(model.summary())"
      ],
      "metadata": {
        "colab": {
          "base_uri": "https://localhost:8080/"
        },
        "id": "tpeoIsMaXUfB",
        "outputId": "0a5c73e4-3333-40ee-f64d-676726e9ec4f"
      },
      "execution_count": 105,
      "outputs": [
        {
          "output_type": "stream",
          "name": "stdout",
          "text": [
            "Model: \"sequential\"\n",
            "_________________________________________________________________\n",
            " Layer (type)                Output Shape              Param #   \n",
            "=================================================================\n",
            " embedding (Embedding)       (None, 150, 50)           9182200   \n",
            "                                                                 \n",
            " conv1d (Conv1D)             (None, 150, 32)           4832      \n",
            "                                                                 \n",
            " max_pooling1d (MaxPooling1D  (None, 75, 32)           0         \n",
            " )                                                               \n",
            "                                                                 \n",
            " conv1d_1 (Conv1D)           (None, 75, 32)            3104      \n",
            "                                                                 \n",
            " max_pooling1d_1 (MaxPooling  (None, 37, 32)           0         \n",
            " 1D)                                                             \n",
            "                                                                 \n",
            " conv1d_2 (Conv1D)           (None, 37, 32)            3104      \n",
            "                                                                 \n",
            " max_pooling1d_2 (MaxPooling  (None, 18, 32)           0         \n",
            " 1D)                                                             \n",
            "                                                                 \n",
            " dense (Dense)               (None, 18, 1)             33        \n",
            "                                                                 \n",
            "=================================================================\n",
            "Total params: 9,193,273\n",
            "Trainable params: 9,193,273\n",
            "Non-trainable params: 0\n",
            "_________________________________________________________________\n",
            "None\n"
          ]
        }
      ]
    },
    {
      "cell_type": "code",
      "source": [
        "# Train the CNN model\n",
        "model.fit(x_train1, y_train, epochs=10, batch_size=256,verbose = 1,validation_data=(x_valid1,y_valid),callbacks=[callback])"
      ],
      "metadata": {
        "colab": {
          "base_uri": "https://localhost:8080/"
        },
        "id": "oZayunc9Ysww",
        "outputId": "4032fb5c-0863-4d24-ef07-2f75c4a4a661"
      },
      "execution_count": 106,
      "outputs": [
        {
          "output_type": "stream",
          "name": "stdout",
          "text": [
            "Epoch 1/10\n",
            "141/141 [==============================] - 35s 237ms/step - loss: 0.6148 - accuracy: 0.6273 - val_loss: 0.5587 - val_accuracy: 0.6728\n",
            "Epoch 2/10\n",
            "141/141 [==============================] - 33s 232ms/step - loss: 0.5405 - accuracy: 0.6856 - val_loss: 0.5509 - val_accuracy: 0.6778\n",
            "Epoch 3/10\n",
            "141/141 [==============================] - 33s 233ms/step - loss: 0.5219 - accuracy: 0.6959 - val_loss: 0.5516 - val_accuracy: 0.6768\n",
            "Epoch 4/10\n",
            "141/141 [==============================] - 33s 237ms/step - loss: 0.5032 - accuracy: 0.7063 - val_loss: 0.5544 - val_accuracy: 0.6770\n"
          ]
        },
        {
          "output_type": "execute_result",
          "data": {
            "text/plain": [
              "<keras.callbacks.History at 0x7f86f0118d60>"
            ]
          },
          "metadata": {},
          "execution_count": 106
        }
      ]
    },
    {
      "cell_type": "code",
      "source": [
        "# Binary prediction\n",
        "predict_x=model.predict(x_test1) \n",
        "classes_x=np.argmax(predict_x,axis=1)\n",
        "accuracy_list_dl.append(accuracy_score(classes_x, y_test))\n",
        "print(f'Accuracy = {accuracy_score(classes_x, y_test)}')"
      ],
      "metadata": {
        "colab": {
          "base_uri": "https://localhost:8080/"
        },
        "id": "swbTLmU4Yzpm",
        "outputId": "8fd085ce-b2b3-4fed-a1f0-66e1b5cf7791"
      },
      "execution_count": 107,
      "outputs": [
        {
          "output_type": "stream",
          "name": "stdout",
          "text": [
            "313/313 [==============================] - 2s 6ms/step\n",
            "Accuracy = 0.1033\n"
          ]
        }
      ]
    },
    {
      "cell_type": "markdown",
      "source": [
        "**LSTM Model**"
      ],
      "metadata": {
        "id": "AbDkWNyYY86w"
      }
    },
    {
      "cell_type": "code",
      "source": [
        "# LSTM\n",
        "tokenizer = Tokenizer(num_words=5000)\n",
        "tokenizer.fit_on_texts(df_merged.review)\n",
        "embedding_dim = 50\n",
        "maxlen = 150\n",
        "\n",
        "# train test Split\n",
        "x_train, x_test, y_train, y_test = train_test_split(df_merged['review'], df_merged['sentiment'],test_size=0.2, random_state=0)\n",
        "# test validation split\n",
        "x_train, x_valid, y_train, y_valid = train_test_split(x_train, y_train,test_size=0.1, random_state=0)\n",
        "\n",
        "# tokenize the input training data\n",
        "x_train1 = tokenizer.texts_to_sequences(x_train)\n",
        "x_valid1 = tokenizer.texts_to_sequences(x_valid)\n",
        "x_test1 = tokenizer.texts_to_sequences(x_test)\n",
        "\n",
        "x_train1 = pad_sequences(x_train1, padding='post', maxlen=maxlen)\n",
        "x_valid1 = pad_sequences(x_valid1, padding='post', maxlen=maxlen)\n",
        "x_test1 = pad_sequences(x_test1, padding='post', maxlen=maxlen)\n",
        "\n",
        "vocab_size = len(tokenizer.word_index) + 1  # Adding 1 because of reserved 0 index\n",
        "embedding_vecor_length = 32\n",
        "callback = EarlyStopping(monitor='val_loss', patience=2)\n",
        "\n",
        "# Create layers for LSTM\n",
        "model = Sequential()\n",
        "model.add(Embedding(input_dim=vocab_size, output_dim=embedding_dim, input_length=maxlen))\n",
        "model.add(Conv1D(filters=32, kernel_size=3, padding='same', activation='relu'))\n",
        "model.add(MaxPooling1D(pool_size=2))\n",
        "model.add(Conv1D(filters=32, kernel_size=3, padding='same', activation='relu'))\n",
        "model.add(MaxPooling1D(pool_size=2))\n",
        "model.add(Conv1D(filters=32, kernel_size=3, padding='same', activation='relu'))\n",
        "model.add(MaxPooling1D(pool_size=2))\n",
        "model.add(LSTM(100))\n",
        "model.add(Dense(1, activation='sigmoid'))\n",
        "\n",
        "# Compile the LSTM model\n",
        "model.compile(loss='binary_crossentropy', optimizer='adam', metrics=['accuracy'])\n",
        "print(model.summary())"
      ],
      "metadata": {
        "colab": {
          "base_uri": "https://localhost:8080/"
        },
        "id": "IZDKHbRhY7VC",
        "outputId": "5cc8d7fc-a32d-40eb-c2f2-aa91ac35c760"
      },
      "execution_count": 108,
      "outputs": [
        {
          "output_type": "stream",
          "name": "stdout",
          "text": [
            "Model: \"sequential_1\"\n",
            "_________________________________________________________________\n",
            " Layer (type)                Output Shape              Param #   \n",
            "=================================================================\n",
            " embedding_1 (Embedding)     (None, 150, 50)           9182200   \n",
            "                                                                 \n",
            " conv1d_3 (Conv1D)           (None, 150, 32)           4832      \n",
            "                                                                 \n",
            " max_pooling1d_3 (MaxPooling  (None, 75, 32)           0         \n",
            " 1D)                                                             \n",
            "                                                                 \n",
            " conv1d_4 (Conv1D)           (None, 75, 32)            3104      \n",
            "                                                                 \n",
            " max_pooling1d_4 (MaxPooling  (None, 37, 32)           0         \n",
            " 1D)                                                             \n",
            "                                                                 \n",
            " conv1d_5 (Conv1D)           (None, 37, 32)            3104      \n",
            "                                                                 \n",
            " max_pooling1d_5 (MaxPooling  (None, 18, 32)           0         \n",
            " 1D)                                                             \n",
            "                                                                 \n",
            " lstm (LSTM)                 (None, 100)               53200     \n",
            "                                                                 \n",
            " dense_1 (Dense)             (None, 1)                 101       \n",
            "                                                                 \n",
            "=================================================================\n",
            "Total params: 9,246,541\n",
            "Trainable params: 9,246,541\n",
            "Non-trainable params: 0\n",
            "_________________________________________________________________\n",
            "None\n"
          ]
        }
      ]
    },
    {
      "cell_type": "code",
      "source": [
        "# Train the model\n",
        "model.fit(x_train1, y_train, epochs=10, batch_size=256,verbose = 1,validation_data=(x_valid1,y_valid),callbacks=[callback])"
      ],
      "metadata": {
        "colab": {
          "base_uri": "https://localhost:8080/"
        },
        "id": "WmxnjGQ2ZCDW",
        "outputId": "e738e61e-5aba-4427-ec41-71e7deb08c9d"
      },
      "execution_count": 109,
      "outputs": [
        {
          "output_type": "stream",
          "name": "stdout",
          "text": [
            "Epoch 1/10\n",
            "141/141 [==============================] - 49s 325ms/step - loss: 0.4502 - accuracy: 0.7618 - val_loss: 0.3055 - val_accuracy: 0.8683\n",
            "Epoch 2/10\n",
            "141/141 [==============================] - 42s 300ms/step - loss: 0.2407 - accuracy: 0.9060 - val_loss: 0.3016 - val_accuracy: 0.8735\n",
            "Epoch 3/10\n",
            "141/141 [==============================] - 44s 310ms/step - loss: 0.1780 - accuracy: 0.9346 - val_loss: 0.3339 - val_accuracy: 0.8727\n",
            "Epoch 4/10\n",
            "141/141 [==============================] - 42s 295ms/step - loss: 0.1100 - accuracy: 0.9627 - val_loss: 0.3563 - val_accuracy: 0.8662\n"
          ]
        },
        {
          "output_type": "execute_result",
          "data": {
            "text/plain": [
              "<keras.callbacks.History at 0x7f86efd18d30>"
            ]
          },
          "metadata": {},
          "execution_count": 109
        }
      ]
    },
    {
      "cell_type": "code",
      "source": [
        "# Binary prediction\n",
        "predict_x=model.predict(x_test1) \n",
        "classes_x=np.argmax(predict_x,axis=1)\n",
        "accuracy_list_dl.append(accuracy_score(classes_x, y_test))\n",
        "print(f'Accuracy = {accuracy_score(classes_x, y_test)}')"
      ],
      "metadata": {
        "colab": {
          "base_uri": "https://localhost:8080/"
        },
        "id": "BCiM-81DZE2_",
        "outputId": "5b9a7aee-6d31-4e93-98c2-41cd3035d726"
      },
      "execution_count": 110,
      "outputs": [
        {
          "output_type": "stream",
          "name": "stdout",
          "text": [
            "313/313 [==============================] - 4s 12ms/step\n",
            "Accuracy = 0.4942\n"
          ]
        }
      ]
    },
    {
      "cell_type": "code",
      "source": [
        "# Comparison of neural networks - based approach\n",
        "fig = plt.figure(figsize = (4, 6))\n",
        "# creating the bar plot\n",
        "plt.bar(algo_list_dl, accuracy_list_dl,\n",
        "        color ='maroon', width = 0.4)\n",
        "plt.xlabel(\"Algorithms\")\n",
        "plt.ylabel(\"Accuracy\")\n",
        "plt.title(\"Accuracy Comparison\")\n",
        "plt.show()"
      ],
      "metadata": {
        "colab": {
          "base_uri": "https://localhost:8080/",
          "height": 428
        },
        "id": "hLBUE-YEZukH",
        "outputId": "c0bb1ced-65d2-4821-d453-8203cbcacd4e"
      },
      "execution_count": 111,
      "outputs": [
        {
          "output_type": "execute_result",
          "data": {
            "text/plain": [
              "<BarContainer object of 2 artists>"
            ]
          },
          "metadata": {},
          "execution_count": 111
        },
        {
          "output_type": "execute_result",
          "data": {
            "text/plain": [
              "Text(0.5, 0, 'Algorithms')"
            ]
          },
          "metadata": {},
          "execution_count": 111
        },
        {
          "output_type": "execute_result",
          "data": {
            "text/plain": [
              "Text(0, 0.5, 'Accuracy')"
            ]
          },
          "metadata": {},
          "execution_count": 111
        },
        {
          "output_type": "execute_result",
          "data": {
            "text/plain": [
              "Text(0.5, 1.0, 'Accuracy Comparison')"
            ]
          },
          "metadata": {},
          "execution_count": 111
        },
        {
          "output_type": "display_data",
          "data": {
            "text/plain": [
              "<Figure size 288x432 with 1 Axes>"
            ],
            "image/png": "[encoded data removed]"
          },
          "metadata": {}
        }
      ]
    },
    {
      "cell_type": "markdown",
      "source": [
        "Deep learning models are giving very poor accuracy as compared to machine learning models."
      ],
      "metadata": {
        "id": "wlLhBqU6cLWB"
      }
    },
    {
      "cell_type": "markdown",
      "source": [
        "# **Additional work - Multiclass Classification - Rating Prediction** <br>"
      ],
      "metadata": {
        "id": "Nyo5j9SkwhDC"
      }
    },
    {
      "cell_type": "markdown",
      "source": [
        "**Create output training and testing features**"
      ],
      "metadata": {
        "id": "hWvY72fdwqNt"
      }
    },
    {
      "cell_type": "code",
      "execution_count": 95,
      "metadata": {
        "id": "h8PK5wX1SRPi"
      },
      "outputs": [],
      "source": [
        "y_train_multi = df_merged['rating']\n",
        "y_train_multi = y_train_multi[0:40000]"
      ]
    },
    {
      "cell_type": "code",
      "execution_count": 96,
      "metadata": {
        "id": "XHrYku5iRvoL"
      },
      "outputs": [],
      "source": [
        "y_test_multi = df_merged['rating']\n",
        "y_test_multi = y_test_multi[40000:50000]"
      ]
    },
    {
      "cell_type": "code",
      "source": [
        "# Create lists for accuracy\n",
        "accuracy_list_multi = []\n",
        "time_list_multi = []"
      ],
      "metadata": {
        "id": "izyUg-rASGvl"
      },
      "execution_count": 97,
      "outputs": []
    },
    {
      "cell_type": "markdown",
      "source": [
        "**Random Forest Classifier - Multiclass**"
      ],
      "metadata": {
        "id": "OjxRJBKfw82k"
      }
    },
    {
      "cell_type": "code",
      "execution_count": 99,
      "metadata": {
        "colab": {
          "base_uri": "https://localhost:8080/"
        },
        "id": "xRLVRHt7Sja-",
        "outputId": "d85ce20e-77ad-499a-bc5e-f3c8e210d6bf"
      },
      "outputs": [
        {
          "output_type": "execute_result",
          "data": {
            "text/plain": [
              "RandomForestClassifier(n_jobs=-1, random_state=1)"
            ]
          },
          "metadata": {},
          "execution_count": 99
        },
        {
          "output_type": "stream",
          "name": "stdout",
          "text": [
            "Model Accuracy : 0.3823%\n"
          ]
        }
      ],
      "source": [
        "# Initialize a classifier\n",
        "rf_multi = RandomForestClassifier(n_estimators=100, n_jobs = -1, random_state = 1)\n",
        "start_time = time.time()\n",
        "rf_multi.fit(X_train, y_train_multi)\n",
        "# making predictions\n",
        "y_pred_multi = rf_multi.predict(X_test)\n",
        "end_time = time.time()\n",
        "rf_multi_time = end_time - start_time\n",
        "time_list_multi.append(rf_multi_time)\n",
        "# model accuracy\n",
        "print(\"Model Accuracy : {}%\".format((y_pred_multi == y_test_multi).mean()))\n",
        "accuracy_list_multi.append((y_pred_multi == y_test_multi).mean())"
      ]
    },
    {
      "cell_type": "markdown",
      "source": [
        "**SVM - Multiclass**"
      ],
      "metadata": {
        "id": "Hvcn0zN3xMju"
      }
    },
    {
      "cell_type": "code",
      "execution_count": 100,
      "metadata": {
        "colab": {
          "base_uri": "https://localhost:8080/"
        },
        "id": "_8uy04P4WK3_",
        "outputId": "b17bc2b3-dbe0-4ca8-b9b4-a12094a1bee1"
      },
      "outputs": [
        {
          "data": {
            "text/plain": [
              "SVC(gamma='auto', kernel='linear')"
            ]
          },
          "execution_count": 100,
          "metadata": {},
          "output_type": "execute_result"
        },
        {
          "output_type": "stream",
          "name": "stdout",
          "text": [
            "SVM Accuracy Score ->  0.4452\n"
          ]
        }
      ],
      "source": [
        "# fit the training dataset on the classifier\n",
        "SVM_multi = svm.SVC(C=1.0, kernel='linear', degree=3, gamma='auto')\n",
        "start_time = time.time()\n",
        "SVM_multi.fit(X_train, y_train_multi)\n",
        "# predict the labels on validation dataset\n",
        "predictions_SVM_multi = SVM_multi.predict(X_test)\n",
        "end_time = time.time()\n",
        "svm_multi_time = end_time - start_time\n",
        "time_list_multi.append(svm_multi_time)\n",
        "# Use accuracy_score function to get the accuracy\n",
        "print(\"SVM Accuracy Score -> \",accuracy_score(predictions_SVM_multi, y_test_multi))\n",
        "accuracy_list_multi.append(accuracy_score(predictions_SVM_multi, y_test_multi))"
      ]
    },
    {
      "cell_type": "markdown",
      "source": [
        "**Multinominal Naive Bayes**"
      ],
      "metadata": {
        "id": "drD9xeVhxTBG"
      }
    },
    {
      "cell_type": "code",
      "execution_count": 101,
      "metadata": {
        "colab": {
          "base_uri": "https://localhost:8080/"
        },
        "id": "jkr2c5toWjeN",
        "outputId": "7416bbdd-9069-4f39-8dfe-f83d5167f3a8"
      },
      "outputs": [
        {
          "output_type": "execute_result",
          "data": {
            "text/plain": [
              "MultinomialNB()"
            ]
          },
          "metadata": {},
          "execution_count": 101
        },
        {
          "output_type": "stream",
          "name": "stdout",
          "text": [
            "MultinomialNB Accuracy Score ->  0.3656\n"
          ]
        }
      ],
      "source": [
        "from sklearn.naive_bayes import MultinomialNB\n",
        "# fit the training dataset on the classifier\n",
        "clf = MultinomialNB()\n",
        "start_time = time.time()\n",
        "clf.fit(X_train, y_train_multi)\n",
        "# predict the labels on validation dataset\n",
        "predictions_clf = clf.predict(X_test)\n",
        "end_time = time.time()\n",
        "clf_multi_time = end_time - start_time\n",
        "time_list_multi.append(clf_multi_time)\n",
        "# Use accuracy_score function to get the accuracy\n",
        "print(\"MultinomialNB Accuracy Score -> \",accuracy_score(predictions_clf, y_test_multi))\n",
        "accuracy_list_multi.append(accuracy_score(predictions_clf, y_test_multi))"
      ]
    },
    {
      "cell_type": "code",
      "source": [
        "accuracy_list_multi"
      ],
      "metadata": {
        "colab": {
          "base_uri": "https://localhost:8080/"
        },
        "id": "1Jlwn9orllzj",
        "outputId": "ccbcb61a-c3bb-4b35-dbc9-25376c85b446"
      },
      "execution_count": 112,
      "outputs": [
        {
          "output_type": "execute_result",
          "data": {
            "text/plain": [
              "[0.3823, 0.4452, 0.3656]"
            ]
          },
          "metadata": {},
          "execution_count": 112
        }
      ]
    },
    {
      "cell_type": "code",
      "source": [
        "# Plot accuracy for each of the above algorithms used in multiclass classification\n",
        "algo_list_multi = ['Random Forest', 'SVM','MultinomialNB']\n",
        "\n",
        "fig = plt.figure(figsize = (6, 6))\n",
        "# creating the bar plot\n",
        "plt.bar(algo_list_multi, accuracy_list_multi,\n",
        "        color ='cornflowerblue', width = 0.4)\n",
        "plt.xlabel(\"Algorithms\")\n",
        "plt.ylabel(\"Accuracy\")\n",
        "plt.title(\"Accuracy Comparison\")\n",
        "plt.show()"
      ],
      "metadata": {
        "colab": {
          "base_uri": "https://localhost:8080/",
          "height": 428
        },
        "id": "yo_9Hc6oLluz",
        "outputId": "e9e2956d-a4b3-4741-b8fc-5d2193c712ac"
      },
      "execution_count": 102,
      "outputs": [
        {
          "output_type": "execute_result",
          "data": {
            "text/plain": [
              "<BarContainer object of 3 artists>"
            ]
          },
          "metadata": {},
          "execution_count": 102
        },
        {
          "output_type": "execute_result",
          "data": {
            "text/plain": [
              "Text(0.5, 0, 'Algorithms')"
            ]
          },
          "metadata": {},
          "execution_count": 102
        },
        {
          "output_type": "execute_result",
          "data": {
            "text/plain": [
              "Text(0, 0.5, 'Accuracy')"
            ]
          },
          "metadata": {},
          "execution_count": 102
        },
        {
          "output_type": "execute_result",
          "data": {
            "text/plain": [
              "Text(0.5, 1.0, 'Accuracy Comparison')"
            ]
          },
          "metadata": {},
          "execution_count": 102
        },
        {
          "output_type": "display_data",
          "data": {
            "text/plain": [
              "<Figure size 432x432 with 1 Axes>"
            ],
            "image/png": "[encoded data removed]"
          },
          "metadata": {}
        }
      ]
    },
    {
      "cell_type": "markdown",
      "source": [
        "**Multiclass classification is not performing as good as binary classification**"
      ],
      "metadata": {
        "id": "l0P9XBOXywNb"
      }
    }
  ],
  "metadata": {
    "colab": {
      "provenance": []
    },
    "kernelspec": {
      "display_name": "Python 3",
      "name": "python3"
    },
    "language_info": {
      "name": "python"
    },
    "gpuClass": "standard"
  },
  "nbformat": 4,
  "nbformat_minor": 0
}